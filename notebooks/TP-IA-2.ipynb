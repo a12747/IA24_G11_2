{
 "cells": [
  {
   "cell_type": "markdown",
   "id": "a7eede46-e605-45e4-8bdd-412ac7e85e28",
   "metadata": {},
   "source": [
    "# Introdução"
   ]
  },
  {
   "cell_type": "markdown",
   "id": "f03ce0c8-fdcd-4d39-90db-36add2d10ad7",
   "metadata": {},
   "source": [
    "O projeto, da unidade curricular de Inteligência Artificial da Licenciatura em Engenharia de Sistemas Informáticos (2024-25), tem como objetivo implementar abordagens e métodos distintos de Aprendizagem Automática (ML) para resolver um problema específico utilizando um conjunto de dados públicos.\n",
    "\n",
    "O trabalho foi realizado pelos seguintes membros:\n",
    "\n",
    "- João Ponte - 17694\n",
    "- João Carvalho - 12747\n",
    "\n",
    "Para a realização deste projeto foi selecionado o seguinte dataset público:\n",
    "- https://www.kaggle.com/code/ryanholbrook/clustering-with-k-means/tutorial\n",
    "\n",
    "Link para o repositório do projeto no Github:\n",
    "- https://github.com/a12747/IA24_G11_2"
   ]
  },
  {
   "cell_type": "markdown",
   "id": "cb3812c1-afd6-470e-9c8b-db90a9ea3dc0",
   "metadata": {},
   "source": [
    "# Conclusão"
   ]
  },
  {
   "cell_type": "markdown",
   "id": "7fc15988-dfd5-49c3-929e-6f796bac9091",
   "metadata": {},
   "source": [
    "O desenvolvimento deste projeto permitiu aplicar conceitos fundamentais de Inteligência Artificial na criação e implementação de um agente inteligente. \n",
    "Durante este processo, foi possível explorar técnicas de planeamento, otimização e resolução de problemas sob restrições, consolidando conhecimentos teóricos e práticos.\n",
    "Foi programado um agente inteligente capaz de lidar com restrições fortes, como precedência de tarefas e capacidade de recursos, e restrições leves, como a minimização da duração total do calendário (makespan).\n",
    "Estas restrições foram integradas de maneira a criar um modelo realista e aplicável a cenários complexos.\n",
    "Ao longo do processo, explorámos diversos tipos de soluções, desde soluções possíveis, que podem violar restrições, até soluções viáveis e otimizadas, que garantem o cumprimento das condições definidas.\n",
    "O agente foi desenhado para encontrar soluções com pontuações elevadas dentro de um tempo limitado, demonstrando a capacidade de identificar a melhor solução encontrada e, quando possível, soluções ótimas.\n"
   ]
  }
 ],
 "metadata": {
  "kernelspec": {
   "display_name": "Python 3 (ipykernel)",
   "language": "python",
   "name": "python3"
  },
  "language_info": {
   "codemirror_mode": {
    "name": "ipython",
    "version": 3
   },
   "file_extension": ".py",
   "mimetype": "text/x-python",
   "name": "python",
   "nbconvert_exporter": "python",
   "pygments_lexer": "ipython3",
   "version": "3.9.20"
  }
 },
 "nbformat": 4,
 "nbformat_minor": 5
}
