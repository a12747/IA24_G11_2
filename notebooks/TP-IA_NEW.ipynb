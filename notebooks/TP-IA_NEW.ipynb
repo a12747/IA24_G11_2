{
 "cells": [
  {
   "cell_type": "markdown",
   "id": "a7eede46-e605-45e4-8bdd-412ac7e85e28",
   "metadata": {
    "jp-MarkdownHeadingCollapsed": true
   },
   "source": [
    "# Introdução"
   ]
  },
  {
   "cell_type": "markdown",
   "id": "f03ce0c8-fdcd-4d39-90db-36add2d10ad7",
   "metadata": {},
   "source": [
    "O projeto, da unidade curricular de Inteligência Artificial da Licenciatura em Engenharia de Sistemas Informáticos (2024-25), tem como objetivo o desenvolvimento de um agente inteligente. Este agente será criado e implementado com base nos princípios da Inteligência Artificial, documentando todo o processo num caderno de notas Jupyter.\n",
    "\n",
    "O trabalho foi realizado pelos seguintes membros:\n",
    "\n",
    "- João Ponte - 17694\n",
    "- João Carvalho - 12747\n",
    "\n",
    "Este projeto procura implementar a resolução de problemas de planeamento de tarefas, abordando restrições fortes e leves, bem como estratégias para a otimização e viabilidade das soluções propostas."
   ]
  },
  {
   "cell_type": "markdown",
   "id": "14b98be7-724a-40d6-b86d-0bf91f62bdb7",
   "metadata": {
    "jp-MarkdownHeadingCollapsed": true
   },
   "source": [
    "# Planeamento e Resolução do Problema"
   ]
  },
  {
   "cell_type": "markdown",
   "id": "caef3f3a-726a-4539-8540-e4df60ae16a9",
   "metadata": {},
   "source": [
    "## Objetivo Geral\n",
    "Resolver o problema de planeamento de tarefas descrito no ficheiro **p01_dataset_8.txt**, respeitando:\n",
    "- **Restrições de precedência**: As tarefas devem ser executadas na ordem correta.\n",
    "- **Disponibilidade de recursos**: Garantir que os recursos disponíveis não sejam ultrapassados.\n",
    "- **Horizonte de tempo**: O cronograma deve caber dentro do limite de tempo definido."
   ]
  },
  {
   "cell_type": "markdown",
   "id": "edad0b14-a39b-4125-ada0-4bf8e8578af4",
   "metadata": {
    "jp-MarkdownHeadingCollapsed": true
   },
   "source": [
    "# Instalar dependencias"
   ]
  },
  {
   "cell_type": "code",
   "execution_count": 1,
   "id": "77628b6c-5688-49d8-922f-9e54e958e561",
   "metadata": {},
   "outputs": [
    {
     "name": "stdout",
     "output_type": "stream",
     "text": [
      "Requirement already satisfied: networkx in /usr/local/lib/python3.9/site-packages (3.2.1)\n",
      "Requirement already satisfied: matplotlib in /usr/local/lib/python3.9/site-packages (3.9.2)\n",
      "Requirement already satisfied: python-constraint in /usr/local/lib/python3.9/site-packages (1.4.0)\n",
      "Requirement already satisfied: contourpy>=1.0.1 in /usr/local/lib/python3.9/site-packages (from matplotlib) (1.3.0)\n",
      "Requirement already satisfied: cycler>=0.10 in /usr/local/lib/python3.9/site-packages (from matplotlib) (0.12.1)\n",
      "Requirement already satisfied: fonttools>=4.22.0 in /usr/local/lib/python3.9/site-packages (from matplotlib) (4.55.0)\n",
      "Requirement already satisfied: kiwisolver>=1.3.1 in /usr/local/lib/python3.9/site-packages (from matplotlib) (1.4.7)\n",
      "Requirement already satisfied: numpy>=1.23 in /usr/local/lib/python3.9/site-packages (from matplotlib) (1.23.5)\n",
      "Requirement already satisfied: packaging>=20.0 in /usr/local/lib/python3.9/site-packages (from matplotlib) (24.2)\n",
      "Requirement already satisfied: pillow>=8 in /usr/local/lib/python3.9/site-packages (from matplotlib) (11.0.0)\n",
      "Requirement already satisfied: pyparsing>=2.3.1 in /usr/local/lib/python3.9/site-packages (from matplotlib) (3.2.0)\n",
      "Requirement already satisfied: python-dateutil>=2.7 in /usr/local/lib/python3.9/site-packages (from matplotlib) (2.9.0.post0)\n",
      "Requirement already satisfied: importlib-resources>=3.2.0 in /usr/local/lib/python3.9/site-packages (from matplotlib) (6.4.5)\n",
      "Requirement already satisfied: zipp>=3.1.0 in /usr/local/lib/python3.9/site-packages (from importlib-resources>=3.2.0->matplotlib) (3.21.0)\n",
      "Requirement already satisfied: six>=1.5 in /usr/local/lib/python3.9/site-packages (from python-dateutil>=2.7->matplotlib) (1.16.0)\n",
      "\u001b[33mWARNING: Running pip as the 'root' user can result in broken permissions and conflicting behaviour with the system package manager, possibly rendering your system unusable.It is recommended to use a virtual environment instead: https://pip.pypa.io/warnings/venv. Use the --root-user-action option if you know what you are doing and want to suppress this warning.\u001b[0m\u001b[33m\n",
      "\u001b[0m"
     ]
    }
   ],
   "source": [
    "!pip install networkx matplotlib python-constraint"
   ]
  },
  {
   "cell_type": "markdown",
   "id": "3818ec86-4e56-43aa-bcaf-cb61716604c2",
   "metadata": {
    "jp-MarkdownHeadingCollapsed": true
   },
   "source": [
    "# Importar bibliotecas"
   ]
  },
  {
   "cell_type": "code",
   "execution_count": 2,
   "id": "94ee14c6-1356-4dd9-8c92-4fe814719a75",
   "metadata": {
    "editable": true,
    "slideshow": {
     "slide_type": ""
    },
    "tags": []
   },
   "outputs": [],
   "source": [
    "import json\n",
    "import re\n",
    "import networkx as nx\n",
    "import matplotlib.pyplot as plt\n",
    "import heapq\n",
    "from itertools import count\n",
    "from queue import PriorityQueue\n",
    "from itertools import count"
   ]
  },
  {
   "cell_type": "markdown",
   "id": "162a57bf-2c86-4442-b6f0-5da8cb41cee0",
   "metadata": {
    "jp-MarkdownHeadingCollapsed": true
   },
   "source": [
    "# Analisar e Compreender o Ficheiro"
   ]
  },
  {
   "cell_type": "markdown",
   "id": "12b76fc2-b2f2-4a0a-9533-4fc991156570",
   "metadata": {},
   "source": [
    "## Estrutura do ficheiro:\n",
    "1. **General Information**:\n",
    "   - Número de projetos, tarefas, horizonte de tempo e recursos disponíveis.\n",
    "2. **Projects Summary**:\n",
    "   - Resumo do número de tarefas, data de início e prazo final do projeto.\n",
    "3. **Precedence Relations**:\n",
    "   - Relações de precedência entre as tarefas (quais tarefas dependem de outras).\n",
    "4. **Duration and Resources**:\n",
    "   - Duração e consumo de recursos para cada tarefa.\n",
    "5. **Resource Availability**:\n",
    "   - Quantidade total de cada recurso disponível."
   ]
  },
  {
   "cell_type": "markdown",
   "id": "4f375f50-601a-45ca-aa40-6b6b66259181",
   "metadata": {
    "jp-MarkdownHeadingCollapsed": true
   },
   "source": [
    "# Carregar e ler o ficheiro"
   ]
  },
  {
   "cell_type": "code",
   "execution_count": 3,
   "id": "8bca0251-c0a4-49b9-ab47-c4774bbb0925",
   "metadata": {},
   "outputs": [],
   "source": [
    "# Caminhos dos ficheiros\n",
    "dataset_path = '/app/datasets/p01_dataset_10.txt'\n",
    "\n",
    "# Função para ler e processar os ficheiros\n",
    "def read_dataset(file_path):\n",
    "    with open(file_path, 'r') as file:\n",
    "        data = file.readlines()\n",
    "    return data\n",
    "\n",
    "# Ler o dataset\n",
    "dataset = read_dataset(dataset_path)"
   ]
  },
  {
   "cell_type": "markdown",
   "id": "08598310-a164-42e5-a302-c399ced4e490",
   "metadata": {
    "jp-MarkdownHeadingCollapsed": true
   },
   "source": [
    "# Extrair e Estruturar as Informações"
   ]
  },
  {
   "cell_type": "markdown",
   "id": "cb82dc9a-2ae0-47ad-8c14-81e17e81787a",
   "metadata": {},
   "source": [
    "## Criar funções para processar cada secção:"
   ]
  },
  {
   "cell_type": "markdown",
   "id": "c6dc94b2-ee82-4f85-b1c4-3a20de00160b",
   "metadata": {},
   "source": [
    "1. **General Information**:\n",
    "   - Extrair o número de projetos (`projects`), tarefas (`jobs`), horizonte (`horizon`) e tipos de recursos (`resources`).\n",
    "   - Exemplo:\n",
    "     ```python\n",
    "     {\n",
    "         \"projects\": 1,\n",
    "         \"jobs\": 8,\n",
    "         \"horizon\": 20,\n",
    "         \"resources\": {\n",
    "             \"renewable\": [2, \"R\"],\n",
    "             \"nonrenewable\": [0, \"N\"],\n",
    "             \"doubly_constrained\": [0, \"D\"]\n",
    "         }\n",
    "     }\n",
    "     ```"
   ]
  },
  {
   "cell_type": "code",
   "execution_count": 4,
   "id": "eb4a8935-bb5f-4f5d-bbfc-67217e5c776a",
   "metadata": {},
   "outputs": [
    {
     "name": "stdout",
     "output_type": "stream",
     "text": [
      "Informações Gerais:\n",
      "{\n",
      "    \"projects\": 1,\n",
      "    \"jobs (incl. supersource/sink )\": 12,\n",
      "    \"horizon\": 46,\n",
      "    \"resources\": [\n",
      "        {\n",
      "            \"renewable\": [\n",
      "                2,\n",
      "                \"R\"\n",
      "            ]\n",
      "        },\n",
      "        {\n",
      "            \"nonrenewable\": [\n",
      "                0,\n",
      "                \"N\"\n",
      "            ]\n",
      "        },\n",
      "        {\n",
      "            \"doubly constrained\": [\n",
      "                0,\n",
      "                \"D\"\n",
      "            ]\n",
      "        }\n",
      "    ]\n",
      "}\n"
     ]
    }
   ],
   "source": [
    "def parse_general_information(dataset):\n",
    "    general_info = {}\n",
    "    resources = []\n",
    "\n",
    "    # Encontrar o bloco \"General Information\"\n",
    "    start_index = dataset.index(\"#General Information\\n\")\n",
    "    end_index = dataset.index(\"************************************************************************\\n\", start_index + 1)\n",
    "    block = dataset[start_index + 1:end_index]\n",
    "\n",
    "    # Processar cada linha do bloco\n",
    "    for line in block:\n",
    "        line = line.strip()\n",
    "        if \":\" in line:\n",
    "            key, value = map(str.strip, line.split(\":\", 1))\n",
    "                \n",
    "            # Detetar recursos\n",
    "            if re.match(r\"^- (renewable|nonrenewable|doubly constrained)\", key, re.IGNORECASE):\n",
    "                parts = value.split()\n",
    "                resources.append({\n",
    "                    key.lstrip(\"- \").strip(): [int(parts[0]), parts[1]]\n",
    "                })\n",
    "            else:\n",
    "                # Converter valores numéricos, se aplicável\n",
    "                general_info[key] = int(value) if value.isdigit() else value\n",
    "\n",
    "    # Adicionar os recursos ao resultado final\n",
    "    if resources:\n",
    "        general_info[\"resources\"] = resources\n",
    "\n",
    "    return general_info\n",
    "\n",
    "# Testar com o ficheiro carregado\n",
    "general_info = parse_general_information(dataset)\n",
    "print(\"Informações Gerais:\")\n",
    "print(json.dumps(general_info, indent=4))"
   ]
  },
  {
   "cell_type": "markdown",
   "id": "e0dbd530-767d-44f6-a772-a3805de1fd1e",
   "metadata": {},
   "source": [
    "2. **Projects Summary**:\n",
    "   - Extrair o número de tarefas, data de início, prazo final e tempo máximo permitido.\n",
    "   - Exemplo:\n",
    "     ```python\n",
    "     {\n",
    "         \"pronr\": 1,\n",
    "         \"jobs\": 8,\n",
    "         \"rel_date\": 0,\n",
    "         \"due_date\": 11,\n",
    "         \"tardcost\": 0,\n",
    "         \"mpm_time\": 11\n",
    "     }\n",
    "     ```"
   ]
  },
  {
   "cell_type": "code",
   "execution_count": 5,
   "id": "c83abfb0-b77a-4d08-b787-199b2f1625f8",
   "metadata": {},
   "outputs": [
    {
     "name": "stdout",
     "output_type": "stream",
     "text": [
      "Resumo do Projeto:\n",
      "{\n",
      "    \"project_number\": 1,\n",
      "    \"jobs\": 10,\n",
      "    \"rel_date\": 0,\n",
      "    \"due_date\": 22,\n",
      "    \"tard_cost\": 3,\n",
      "    \"mpm_time\": 22\n",
      "}\n"
     ]
    }
   ],
   "source": [
    "def parse_projects_summary(dataset):\n",
    "    # Encontrar o bloco \"Projects Summary\"\n",
    "    start_index = dataset.index(\"#Projects summary\\n\")\n",
    "    end_index = dataset.index(\"************************************************************************\\n\", start_index + 1)\n",
    "    block = dataset[start_index + 1:end_index]\n",
    "\n",
    "    # Processar a segunda linha do bloco (após o cabeçalho)\n",
    "    line = block[1].strip()\n",
    "    parts = line.split()\n",
    "\n",
    "    # Mapear os valores para as chaves correspondentes\n",
    "    summary = {\n",
    "        \"project_number\": int(parts[0]),\n",
    "        \"jobs\": int(parts[1]),\n",
    "        \"rel_date\": int(parts[2]),\n",
    "        \"due_date\": int(parts[3]),\n",
    "        \"tard_cost\": int(parts[4]),\n",
    "        \"mpm_time\": int(parts[5])\n",
    "    }\n",
    "\n",
    "    return summary\n",
    "\n",
    "# Testar com o ficheiro carregado\n",
    "projects_summary = parse_projects_summary(dataset)\n",
    "print(\"Resumo do Projeto:\")\n",
    "print(json.dumps(projects_summary, indent=4))"
   ]
  },
  {
   "cell_type": "markdown",
   "id": "74176fae-e811-46d1-8b05-ea9e3bcb8aed",
   "metadata": {},
   "source": [
    "3. **Precedence Relations**:\n",
    "   - Representar as relações de precedência com um grafo direcionado.\n",
    "   - Exemplo:\n",
    "     ```python\n",
    "     \"jobnr\": [\n",
    "         {\"task\": 1, \"successors\": [2, 3]},\n",
    "         {\"task\": 2, \"successors\": [4]},\n",
    "         {\"task\": 3, \"successors\": [4]},\n",
    "         {\"task\": 4, \"successors\": []},\n",
    "         ...\n",
    "     ]\n",
    "     ```"
   ]
  },
  {
   "cell_type": "code",
   "execution_count": 6,
   "id": "43eea147-5177-4d79-80ce-bb96f7fe7ed6",
   "metadata": {},
   "outputs": [
    {
     "name": "stdout",
     "output_type": "stream",
     "text": [
      "Relações de Precedência:\n",
      "[\n",
      "    {\n",
      "        \"task\": 1,\n",
      "        \"successors\": [\n",
      "            2,\n",
      "            3,\n",
      "            4\n",
      "        ]\n",
      "    },\n",
      "    {\n",
      "        \"task\": 2,\n",
      "        \"successors\": [\n",
      "            5,\n",
      "            6\n",
      "        ]\n",
      "    },\n",
      "    {\n",
      "        \"task\": 3,\n",
      "        \"successors\": [\n",
      "            10,\n",
      "            11\n",
      "        ]\n",
      "    },\n",
      "    {\n",
      "        \"task\": 4,\n",
      "        \"successors\": [\n",
      "            9\n",
      "        ]\n",
      "    },\n",
      "    {\n",
      "        \"task\": 5,\n",
      "        \"successors\": [\n",
      "            7,\n",
      "            8\n",
      "        ]\n",
      "    },\n",
      "    {\n",
      "        \"task\": 6,\n",
      "        \"successors\": [\n",
      "            10,\n",
      "            11\n",
      "        ]\n",
      "    },\n",
      "    {\n",
      "        \"task\": 7,\n",
      "        \"successors\": [\n",
      "            9,\n",
      "            10\n",
      "        ]\n",
      "    },\n",
      "    {\n",
      "        \"task\": 8,\n",
      "        \"successors\": [\n",
      "            9\n",
      "        ]\n",
      "    },\n",
      "    {\n",
      "        \"task\": 9,\n",
      "        \"successors\": [\n",
      "            12\n",
      "        ]\n",
      "    },\n",
      "    {\n",
      "        \"task\": 10,\n",
      "        \"successors\": [\n",
      "            12\n",
      "        ]\n",
      "    },\n",
      "    {\n",
      "        \"task\": 11,\n",
      "        \"successors\": [\n",
      "            12\n",
      "        ]\n",
      "    },\n",
      "    {\n",
      "        \"task\": 12,\n",
      "        \"successors\": []\n",
      "    }\n",
      "]\n"
     ]
    }
   ],
   "source": [
    "def parse_precedence_relations(dataset):\n",
    "    precedence_relations = []\n",
    "\n",
    "    # Encontrar o bloco \"Precedence Relations\"\n",
    "    start_index = dataset.index(\"#Precedence relations\\n\")\n",
    "    end_index = dataset.index(\"************************************************************************\\n\", start_index + 1)\n",
    "    block = dataset[start_index + 2:end_index]  # Ignorar o cabeçalho da secção\n",
    "\n",
    "    # Processar cada linha do bloco\n",
    "    for line in block:\n",
    "        line = line.strip()\n",
    "        if not line:\n",
    "            continue  # Ignorar linhas vazias\n",
    "        parts = line.split()\n",
    "\n",
    "        # Extrair informações\n",
    "        task = int(parts[0])  # Número da tarefa\n",
    "        successors_count = int(parts[2])  # Número de sucessores\n",
    "        successors = list(map(int, parts[3:])) if successors_count > 0 else [] # Sucessores\n",
    "\n",
    "        # Adicionar ao resultado\n",
    "        precedence_relations.append({\n",
    "            \"task\": task,\n",
    "            \"successors\": successors\n",
    "        })\n",
    "\n",
    "    return precedence_relations\n",
    "\n",
    "# Testar com o ficheiro carregado\n",
    "precedence_relations = parse_precedence_relations(dataset)\n",
    "print(\"Relações de Precedência:\")\n",
    "print(json.dumps(precedence_relations, indent=4))"
   ]
  },
  {
   "cell_type": "markdown",
   "id": "51146bc2-2755-47ce-a218-ad754522129b",
   "metadata": {},
   "source": [
    "4. **Duration and Resources**:\n",
    "   - Extrair a duração de cada tarefa e os recursos consumidos.\n",
    "   - Exemplo:\n",
    "     ```python\n",
    "     [\n",
    "         {\"task\": 1, \"duration\": 2, \"resources\": {\"R1\": 1, \"R2\": 0}},\n",
    "         {\"task\": 2, \"duration\": 3, \"resources\": {\"R1\": 0, \"R2\": 1}},\n",
    "         ...\n",
    "     ]\n",
    "     ```"
   ]
  },
  {
   "cell_type": "code",
   "execution_count": 7,
   "id": "b05b2021-0b3c-4c8b-a4ab-b1cd3462af0a",
   "metadata": {},
   "outputs": [
    {
     "name": "stdout",
     "output_type": "stream",
     "text": [
      "Duração e Recursos:\n",
      "[\n",
      "    {\n",
      "        \"task\": 1,\n",
      "        \"duration\": 0,\n",
      "        \"resources\": {\n",
      "            \"R1\": 0,\n",
      "            \"R2\": 0\n",
      "        }\n",
      "    },\n",
      "    {\n",
      "        \"task\": 2,\n",
      "        \"duration\": 3,\n",
      "        \"resources\": {\n",
      "            \"R1\": 6,\n",
      "            \"R2\": 2\n",
      "        }\n",
      "    },\n",
      "    {\n",
      "        \"task\": 3,\n",
      "        \"duration\": 1,\n",
      "        \"resources\": {\n",
      "            \"R1\": 0,\n",
      "            \"R2\": 0\n",
      "        }\n",
      "    },\n",
      "    {\n",
      "        \"task\": 4,\n",
      "        \"duration\": 8,\n",
      "        \"resources\": {\n",
      "            \"R1\": 4,\n",
      "            \"R2\": 0\n",
      "        }\n",
      "    },\n",
      "    {\n",
      "        \"task\": 5,\n",
      "        \"duration\": 4,\n",
      "        \"resources\": {\n",
      "            \"R1\": 0,\n",
      "            \"R2\": 4\n",
      "        }\n",
      "    },\n",
      "    {\n",
      "        \"task\": 6,\n",
      "        \"duration\": 4,\n",
      "        \"resources\": {\n",
      "            \"R1\": 0,\n",
      "            \"R2\": 4\n",
      "        }\n",
      "    },\n",
      "    {\n",
      "        \"task\": 7,\n",
      "        \"duration\": 6,\n",
      "        \"resources\": {\n",
      "            \"R1\": 2,\n",
      "            \"R2\": 0\n",
      "        }\n",
      "    },\n",
      "    {\n",
      "        \"task\": 8,\n",
      "        \"duration\": 4,\n",
      "        \"resources\": {\n",
      "            \"R1\": 4,\n",
      "            \"R2\": 2\n",
      "        }\n",
      "    },\n",
      "    {\n",
      "        \"task\": 9,\n",
      "        \"duration\": 5,\n",
      "        \"resources\": {\n",
      "            \"R1\": 3,\n",
      "            \"R2\": 0\n",
      "        }\n",
      "    },\n",
      "    {\n",
      "        \"task\": 10,\n",
      "        \"duration\": 7,\n",
      "        \"resources\": {\n",
      "            \"R1\": 2,\n",
      "            \"R2\": 1\n",
      "        }\n",
      "    },\n",
      "    {\n",
      "        \"task\": 11,\n",
      "        \"duration\": 4,\n",
      "        \"resources\": {\n",
      "            \"R1\": 0,\n",
      "            \"R2\": 3\n",
      "        }\n",
      "    },\n",
      "    {\n",
      "        \"task\": 12,\n",
      "        \"duration\": 0,\n",
      "        \"resources\": {\n",
      "            \"R1\": 0,\n",
      "            \"R2\": 0\n",
      "        }\n",
      "    }\n",
      "]\n"
     ]
    }
   ],
   "source": [
    "def parse_duration_and_resources(dataset, general_info):\n",
    "    duration_and_resources = []\n",
    "\n",
    "    # Encontrar o bloco \"Duration and Resources\"\n",
    "    start_index = dataset.index(\"#Duration and resources\\n\")\n",
    "    end_index = dataset.index(\"************************************************************************\\n\", start_index + 1)\n",
    "    block = dataset[start_index + 2:end_index]  # Ignorar o cabeçalho da secção\n",
    "    resources = general_info['resources']\n",
    "    nresources = resources[0]['renewable']\n",
    "\n",
    "    # Processar cada linha do bloco\n",
    "    for line in block:\n",
    "        line = line.strip()\n",
    "        if not line:\n",
    "            continue  # Ignorar linhas vazias\n",
    "        parts = line.split()\n",
    "\n",
    "        # Extrair informações\n",
    "        task = int(parts[0])  # Número da tarefa\n",
    "        duration = int(parts[2])  # Duração\n",
    "        resources = {     f'R{i + 1}': int(parts[i + 3])     for i in range(nresources[0]) } # Recursos\n",
    " \n",
    "\n",
    "        # Adicionar ao resultado\n",
    "        duration_and_resources.append({\n",
    "            \"task\": task,\n",
    "            \"duration\": duration,\n",
    "            \"resources\": resources\n",
    "        })\n",
    "\n",
    "    return duration_and_resources\n",
    "\n",
    "# Testar com o ficheiro carregado\n",
    "duration_and_resources = parse_duration_and_resources(dataset, general_info)\n",
    "print(\"Duração e Recursos:\")\n",
    "print(json.dumps(duration_and_resources, indent=4))"
   ]
  },
  {
   "cell_type": "markdown",
   "id": "af319a23-c71a-45b1-9e85-4765df2b6dbd",
   "metadata": {},
   "source": [
    "5. **Resource Availability**:\n",
    "   - Extrair a quantidade total de cada recurso disponível.\n",
    "   - Exemplo:\n",
    "     ```python\n",
    "     {\n",
    "         \"R1\": 1,\n",
    "         \"R2\": 2\n",
    "     }\n",
    "     ```"
   ]
  },
  {
   "cell_type": "code",
   "execution_count": 8,
   "id": "b3816338-4040-423e-a233-5f0e9a273c00",
   "metadata": {},
   "outputs": [
    {
     "name": "stdout",
     "output_type": "stream",
     "text": [
      "Disponibilidade de Recursos:\n",
      "{\n",
      "    \"R1\": 6,\n",
      "    \"R2\": 4\n",
      "}\n"
     ]
    }
   ],
   "source": [
    "def parse_resource_availability(dataset):\n",
    "    resource_availability = {}\n",
    "\n",
    "    # Encontrar o bloco \"Resource Availability\"\n",
    "    start_index = dataset.index(\"#Resource availability\\n\")\n",
    "    end_index = dataset.index(\"************************************************************************\\n\", start_index + 1)\n",
    "    block = dataset[start_index + 2:end_index]  # Ignorar o cabeçalho da secção\n",
    "\n",
    "    # Processar cada linha do bloco\n",
    "    for line in block:\n",
    "        line = line.strip()\n",
    "        if not line:\n",
    "            continue  # Ignorar linhas vazias\n",
    "        parts = line.split()\n",
    "\n",
    "        # Extrair informações\n",
    "        resource = parts[0]  # Nome do recurso\n",
    "        quantity = int(parts[1])  # Quantidade disponível\n",
    "\n",
    "        # Adicionar ao resultado\n",
    "        resource_availability[resource] = quantity\n",
    "\n",
    "    return resource_availability\n",
    "\n",
    "# Testar com o ficheiro carregado\n",
    "resource_availability = parse_resource_availability(dataset)\n",
    "print(\"Disponibilidade de Recursos:\")\n",
    "print(json.dumps(resource_availability, indent=4))"
   ]
  },
  {
   "cell_type": "code",
   "execution_count": 9,
   "id": "0b9763eb-c912-4317-8941-d8fbed94af29",
   "metadata": {},
   "outputs": [
    {
     "name": "stdout",
     "output_type": "stream",
     "text": [
      "{\n",
      "    \"general_info\": {\n",
      "        \"projects\": 1,\n",
      "        \"jobs (incl. supersource/sink )\": 12,\n",
      "        \"horizon\": 46,\n",
      "        \"resources\": [\n",
      "            {\n",
      "                \"renewable\": [\n",
      "                    2,\n",
      "                    \"R\"\n",
      "                ]\n",
      "            },\n",
      "            {\n",
      "                \"nonrenewable\": [\n",
      "                    0,\n",
      "                    \"N\"\n",
      "                ]\n",
      "            },\n",
      "            {\n",
      "                \"doubly constrained\": [\n",
      "                    0,\n",
      "                    \"D\"\n",
      "                ]\n",
      "            }\n",
      "        ]\n",
      "    },\n",
      "    \"projects_summary\": {\n",
      "        \"project_number\": 1,\n",
      "        \"jobs\": 10,\n",
      "        \"rel_date\": 0,\n",
      "        \"due_date\": 22,\n",
      "        \"tard_cost\": 3,\n",
      "        \"mpm_time\": 22\n",
      "    },\n",
      "    \"precedence_relations\": [\n",
      "        {\n",
      "            \"task\": 1,\n",
      "            \"successors\": [\n",
      "                2,\n",
      "                3,\n",
      "                4\n",
      "            ]\n",
      "        },\n",
      "        {\n",
      "            \"task\": 2,\n",
      "            \"successors\": [\n",
      "                5,\n",
      "                6\n",
      "            ]\n",
      "        },\n",
      "        {\n",
      "            \"task\": 3,\n",
      "            \"successors\": [\n",
      "                10,\n",
      "                11\n",
      "            ]\n",
      "        },\n",
      "        {\n",
      "            \"task\": 4,\n",
      "            \"successors\": [\n",
      "                9\n",
      "            ]\n",
      "        },\n",
      "        {\n",
      "            \"task\": 5,\n",
      "            \"successors\": [\n",
      "                7,\n",
      "                8\n",
      "            ]\n",
      "        },\n",
      "        {\n",
      "            \"task\": 6,\n",
      "            \"successors\": [\n",
      "                10,\n",
      "                11\n",
      "            ]\n",
      "        },\n",
      "        {\n",
      "            \"task\": 7,\n",
      "            \"successors\": [\n",
      "                9,\n",
      "                10\n",
      "            ]\n",
      "        },\n",
      "        {\n",
      "            \"task\": 8,\n",
      "            \"successors\": [\n",
      "                9\n",
      "            ]\n",
      "        },\n",
      "        {\n",
      "            \"task\": 9,\n",
      "            \"successors\": [\n",
      "                12\n",
      "            ]\n",
      "        },\n",
      "        {\n",
      "            \"task\": 10,\n",
      "            \"successors\": [\n",
      "                12\n",
      "            ]\n",
      "        },\n",
      "        {\n",
      "            \"task\": 11,\n",
      "            \"successors\": [\n",
      "                12\n",
      "            ]\n",
      "        },\n",
      "        {\n",
      "            \"task\": 12,\n",
      "            \"successors\": []\n",
      "        }\n",
      "    ],\n",
      "    \"duration_and_resources\": [\n",
      "        {\n",
      "            \"task\": 1,\n",
      "            \"duration\": 0,\n",
      "            \"resources\": {\n",
      "                \"R1\": 0,\n",
      "                \"R2\": 0\n",
      "            }\n",
      "        },\n",
      "        {\n",
      "            \"task\": 2,\n",
      "            \"duration\": 3,\n",
      "            \"resources\": {\n",
      "                \"R1\": 6,\n",
      "                \"R2\": 2\n",
      "            }\n",
      "        },\n",
      "        {\n",
      "            \"task\": 3,\n",
      "            \"duration\": 1,\n",
      "            \"resources\": {\n",
      "                \"R1\": 0,\n",
      "                \"R2\": 0\n",
      "            }\n",
      "        },\n",
      "        {\n",
      "            \"task\": 4,\n",
      "            \"duration\": 8,\n",
      "            \"resources\": {\n",
      "                \"R1\": 4,\n",
      "                \"R2\": 0\n",
      "            }\n",
      "        },\n",
      "        {\n",
      "            \"task\": 5,\n",
      "            \"duration\": 4,\n",
      "            \"resources\": {\n",
      "                \"R1\": 0,\n",
      "                \"R2\": 4\n",
      "            }\n",
      "        },\n",
      "        {\n",
      "            \"task\": 6,\n",
      "            \"duration\": 4,\n",
      "            \"resources\": {\n",
      "                \"R1\": 0,\n",
      "                \"R2\": 4\n",
      "            }\n",
      "        },\n",
      "        {\n",
      "            \"task\": 7,\n",
      "            \"duration\": 6,\n",
      "            \"resources\": {\n",
      "                \"R1\": 2,\n",
      "                \"R2\": 0\n",
      "            }\n",
      "        },\n",
      "        {\n",
      "            \"task\": 8,\n",
      "            \"duration\": 4,\n",
      "            \"resources\": {\n",
      "                \"R1\": 4,\n",
      "                \"R2\": 2\n",
      "            }\n",
      "        },\n",
      "        {\n",
      "            \"task\": 9,\n",
      "            \"duration\": 5,\n",
      "            \"resources\": {\n",
      "                \"R1\": 3,\n",
      "                \"R2\": 0\n",
      "            }\n",
      "        },\n",
      "        {\n",
      "            \"task\": 10,\n",
      "            \"duration\": 7,\n",
      "            \"resources\": {\n",
      "                \"R1\": 2,\n",
      "                \"R2\": 1\n",
      "            }\n",
      "        },\n",
      "        {\n",
      "            \"task\": 11,\n",
      "            \"duration\": 4,\n",
      "            \"resources\": {\n",
      "                \"R1\": 0,\n",
      "                \"R2\": 3\n",
      "            }\n",
      "        },\n",
      "        {\n",
      "            \"task\": 12,\n",
      "            \"duration\": 0,\n",
      "            \"resources\": {\n",
      "                \"R1\": 0,\n",
      "                \"R2\": 0\n",
      "            }\n",
      "        }\n",
      "    ],\n",
      "    \"resource_availability\": {\n",
      "        \"R1\": 6,\n",
      "        \"R2\": 4\n",
      "    }\n",
      "}\n"
     ]
    }
   ],
   "source": [
    "# Processar todas as secções do ficheiro\n",
    "general_info = parse_general_information(dataset)\n",
    "projects_summary = parse_projects_summary(dataset)\n",
    "precedence_relations = parse_precedence_relations(dataset)\n",
    "duration_and_resources = parse_duration_and_resources(dataset, general_info)\n",
    "resource_availability = parse_resource_availability(dataset)\n",
    "\n",
    "# Criar um objeto final com os resultados\n",
    "parsed_data = {\n",
    "    \"general_info\": general_info,\n",
    "    \"projects_summary\": projects_summary,\n",
    "    \"precedence_relations\": precedence_relations,\n",
    "    \"duration_and_resources\": duration_and_resources,\n",
    "    \"resource_availability\": resource_availability\n",
    "}\n",
    "\n",
    "# Exibir os resultados formatados\n",
    "print(json.dumps(parsed_data, indent=4))\n"
   ]
  },
  {
   "cell_type": "markdown",
   "id": "28f97ec5-5432-4761-a7e5-ddf3e7e8877d",
   "metadata": {
    "jp-MarkdownHeadingCollapsed": true
   },
   "source": [
    "# Representar o Problema em Grafo"
   ]
  },
  {
   "cell_type": "markdown",
   "id": "f4f97eb5-4faf-474a-a7a8-5eabf99c2fa3",
   "metadata": {},
   "source": [
    "1. **Criar um Grafo de Precedências**:\n",
    "   - Representar as tarefas e dependências com recurso à biblioteca **NetworkX**.\n",
    "   - Os nós representam as tarefas, e as arestas representam as relações de precedência."
   ]
  },
  {
   "cell_type": "code",
   "execution_count": 10,
   "id": "1d71424d-1ebd-4854-9fb7-455b68c76db2",
   "metadata": {},
   "outputs": [
    {
     "data": {
      "image/png": "[encoded data removed]",
      "text/plain": [
       "<Figure size 1000x600 with 1 Axes>"
      ]
     },
     "metadata": {},
     "output_type": "display_data"
    }
   ],
   "source": [
    "def create_precedence_graph(precedence_relations):\n",
    "    # Criar o grafo direcionado\n",
    "    G = nx.DiGraph()\n",
    "\n",
    "    # Adicionar arestas com base nas relações de precedência\n",
    "    for relation in precedence_relations:\n",
    "        task = relation[\"task\"]\n",
    "        for successor in relation[\"successors\"]:\n",
    "            G.add_edge(task, successor)\n",
    "\n",
    "    return G\n",
    "\n",
    "# Criar o grafo a partir das relações de precedência\n",
    "precedence_graph = create_precedence_graph(parsed_data[\"precedence_relations\"])\n",
    "\n",
    "# Visualizar o grafo\n",
    "plt.figure(figsize=(10, 6))\n",
    "nx.draw(precedence_graph, with_labels=True, node_color='lightblue', node_size=2000, font_size=10, font_weight=\"bold\")\n",
    "plt.title(\"Grafo de Precedências\")\n",
    "plt.show()\n"
   ]
  },
  {
   "cell_type": "markdown",
   "id": "792c99f6-4549-4e2d-b13b-7bcdbc58d3ca",
   "metadata": {},
   "source": [
    "# Planeamento Básico"
   ]
  },
  {
   "cell_type": "markdown",
   "id": "a804a538-2103-478a-be64-7693bd0104ba",
   "metadata": {
    "jp-MarkdownHeadingCollapsed": true
   },
   "source": [
    "## Inicializar o cronograma"
   ]
  },
  {
   "cell_type": "code",
   "execution_count": 11,
   "id": "3d077ed3-eaa2-4973-95f5-2d42a9ab8124",
   "metadata": {},
   "outputs": [],
   "source": [
    "def initialize_schedule(horizon, resources):\n",
    "    \"\"\"Inicializa o cronograma com slots de tempo e uso de recursos.\"\"\"\n",
    "    return {\n",
    "        \"time_slots\": [0] * horizon,\n",
    "        \"resource_usage\": {r: [0] * horizon for r in resources.keys()}\n",
    "    }"
   ]
  },
  {
   "cell_type": "markdown",
   "id": "4c1563db-91c5-4703-8d57-39ca20908fbe",
   "metadata": {
    "jp-MarkdownHeadingCollapsed": true
   },
   "source": [
    "## Criar um cronograma básico"
   ]
  },
  {
   "cell_type": "code",
   "execution_count": 12,
   "id": "d1591cdc-4545-475a-b8a0-26d27c535156",
   "metadata": {},
   "outputs": [
    {
     "name": "stdout",
     "output_type": "stream",
     "text": [
      "Cronograma Básico:\n",
      "Tarefa 1: Início 0\n",
      "Tarefa 2: Início 0\n",
      "Tarefa 3: Início 0\n",
      "Tarefa 4: Início 3\n",
      "Tarefa 5: Início 3\n",
      "Tarefa 6: Início 7\n",
      "Tarefa 7: Início 7\n",
      "Tarefa 8: Início 11\n",
      "Tarefa 9: Início 15\n",
      "Tarefa 10: Início 13\n",
      "Tarefa 11: Início 15\n",
      "Tarefa 12: Início 20\n"
     ]
    }
   ],
   "source": [
    "def create_basic_schedule(precedence_relations, duration_and_resources, resource_availability, horizon):\n",
    "    \"\"\"Cria um cronograma básico respeitando precedências e recursos.\"\"\"\n",
    "    schedule = {}\n",
    "    resource_usage = {r: [0] * horizon for r in resource_availability.keys()}\n",
    "\n",
    "    for relation in precedence_relations:\n",
    "        task = relation[\"task\"]\n",
    "        duration = next(d[\"duration\"] for d in duration_and_resources if d[\"task\"] == task)\n",
    "        resources = next(d[\"resources\"] for d in duration_and_resources if d[\"task\"] == task)\n",
    "\n",
    "        # Determinar o início mais cedo baseado nas predecessoras\n",
    "        predecessors = [rel[\"task\"] for rel in precedence_relations if task in rel[\"successors\"]]\n",
    "        earliest_start = max(schedule.get(pred, 0) + next(d[\"duration\"] for d in duration_and_resources if d[\"task\"] == pred) for pred in predecessors) if predecessors else 0\n",
    "\n",
    "        # Verificar disponibilidade de recursos\n",
    "        feasible_start = earliest_start\n",
    "        while True:\n",
    "            if all(\n",
    "                resource_usage[r][t] + resources[r] <= resource_availability[r]\n",
    "                for t in range(feasible_start, feasible_start + duration)\n",
    "                for r in resources\n",
    "            ):\n",
    "                break\n",
    "            feasible_start += 1  # Procurar próximo slot viável\n",
    "\n",
    "        # Atualizar o cronograma e o uso de recursos\n",
    "        schedule[task] = feasible_start\n",
    "        for t in range(feasible_start, feasible_start + duration):\n",
    "            for r in resources:\n",
    "                resource_usage[r][t] += resources[r]\n",
    "\n",
    "    return schedule\n",
    "\n",
    "basic_schedule = create_basic_schedule(\n",
    "    parsed_data[\"precedence_relations\"],\n",
    "    parsed_data[\"duration_and_resources\"],\n",
    "    parsed_data[\"resource_availability\"],\n",
    "    parsed_data[\"general_info\"][\"horizon\"]\n",
    ")\n",
    "\n",
    "# Mostrar cronograma\n",
    "print(\"Cronograma Básico:\")\n",
    "for task, start_time in basic_schedule.items():\n",
    "    print(f\"Tarefa {task}: Início {start_time}\")\n"
   ]
  },
  {
   "cell_type": "markdown",
   "id": "cc325913-0ff8-4991-8875-1e12d40f0e55",
   "metadata": {
    "jp-MarkdownHeadingCollapsed": true
   },
   "source": [
    "# Validação do Cronograma"
   ]
  },
  {
   "cell_type": "markdown",
   "id": "be627d58-3386-4645-aca4-21077b81c177",
   "metadata": {},
   "source": [
    "## Validação de Precedências"
   ]
  },
  {
   "cell_type": "code",
   "execution_count": 13,
   "id": "5732f39c-db55-4d04-9024-3ec16918c09b",
   "metadata": {},
   "outputs": [],
   "source": [
    "def validate_precedences(schedule, precedence_relations, duration_and_resources):\n",
    "    \"\"\"Valida se as precedências foram respeitadas.\"\"\"\n",
    "    for relation in precedence_relations:\n",
    "        task = relation[\"task\"]\n",
    "        for successor in relation[\"successors\"]:\n",
    "            task_end_time = schedule[task] + next(d[\"duration\"] for d in duration_and_resources if d[\"task\"] == task)\n",
    "            if schedule[successor] < task_end_time:\n",
    "                print(f\"Erro: Precedência violada entre Tarefa {task} -> Tarefa {successor}\")\n",
    "                return False\n",
    "    return True"
   ]
  },
  {
   "cell_type": "markdown",
   "id": "4e7f8d3a-0adf-4d83-aac3-2dc254d71a16",
   "metadata": {},
   "source": [
    "## Validação de Recursos"
   ]
  },
  {
   "cell_type": "code",
   "execution_count": 14,
   "id": "7a43a83e-fef1-47f0-9f71-3c65f50fd7f7",
   "metadata": {},
   "outputs": [],
   "source": [
    "def validate_resources(schedule, duration_and_resources, resource_availability, horizon):\n",
    "    \"\"\"Valida se os recursos não foram excedidos.\"\"\"\n",
    "    resource_usage = {r: [0] * horizon for r in resource_availability.keys()}\n",
    "\n",
    "    for task, start_time in schedule.items():\n",
    "        task_info = next(d for d in duration_and_resources if d[\"task\"] == task)\n",
    "        duration = task_info[\"duration\"]\n",
    "        resources = task_info[\"resources\"]\n",
    "\n",
    "        for t in range(start_time, start_time + duration):\n",
    "            for r in resources:\n",
    "                resource_usage[r][t] += resources[r]\n",
    "                if resource_usage[r][t] > resource_availability[r]:\n",
    "                    print(f\"Erro: Recurso {r} excedido no tempo {t} pela Tarefa {task}.\")\n",
    "                    return False\n",
    "    return True"
   ]
  },
  {
   "cell_type": "markdown",
   "id": "b7883b46-865a-4b86-88bc-e796828c3df4",
   "metadata": {},
   "source": [
    "## Validar cronograma"
   ]
  },
  {
   "cell_type": "code",
   "execution_count": 15,
   "id": "f0edffca-c45e-4014-a612-d9e1f8f45a95",
   "metadata": {},
   "outputs": [
    {
     "name": "stdout",
     "output_type": "stream",
     "text": [
      "Validação de Precedências: Válida\n",
      "Validação de Recursos: Válida\n"
     ]
    }
   ],
   "source": [
    "is_precedences_valid = validate_precedences(\n",
    "    basic_schedule,\n",
    "    parsed_data[\"precedence_relations\"],\n",
    "    parsed_data[\"duration_and_resources\"]\n",
    ")\n",
    "is_resources_valid = validate_resources(\n",
    "    basic_schedule,\n",
    "    parsed_data[\"duration_and_resources\"],\n",
    "    parsed_data[\"resource_availability\"],\n",
    "    parsed_data[\"general_info\"][\"horizon\"]\n",
    ")\n",
    "\n",
    "print(\"Validação de Precedências:\", \"Válida\" if is_precedences_valid else \"Inválida\")\n",
    "print(\"Validação de Recursos:\", \"Válida\" if is_resources_valid else \"Inválida\")"
   ]
  },
  {
   "cell_type": "markdown",
   "id": "b6bb5c05-46dd-4d1a-a12c-0babb52f2228",
   "metadata": {},
   "source": [
    "# Função para Criar o Gráfico de Gantt"
   ]
  },
  {
   "cell_type": "code",
   "execution_count": 79,
   "id": "64112279-2340-4893-b1cb-a2b4e0813df5",
   "metadata": {},
   "outputs": [],
   "source": [
    "def plot_gantt_chart(planned_tasks, duration_and_resources):\n",
    "    \"\"\"\n",
    "    Gera um gráfico de Gantt com base nas tarefas planeadas.\n",
    "    :param planned_tasks: Dicionário {tarefa: tempo de início}.\n",
    "    :param duration_and_resources: Lista de dicionários com duração e recursos de cada tarefa.\n",
    "    \"\"\"\n",
    "    # Ordenar tarefas pelo tempo de início\n",
    "    tasks = sorted(planned_tasks.keys(), key=lambda x: planned_tasks[x])\n",
    "    start_times = [planned_tasks[task] for task in tasks]\n",
    "    durations = [next(d[\"duration\"] for d in duration_and_resources if d[\"task\"] == task) for task in tasks]\n",
    "\n",
    "    # Criar o gráfico de Gantt\n",
    "    plt.figure(figsize=(10, 6))\n",
    "    for i, task in enumerate(tasks):\n",
    "        plt.barh(i, durations[i], left=start_times[i], color=\"skyblue\", edgecolor=\"black\")\n",
    "        plt.text(\n",
    "            start_times[i] + durations[i] / 2, i, f\"T{task}\", va=\"center\", ha=\"center\", color=\"black\"\n",
    "        )\n",
    "\n",
    "    # Configurar o eixo\n",
    "    plt.xlabel(\"Tempo\")\n",
    "    plt.ylabel(\"Tarefas\")\n",
    "    plt.title(\"Cronograma (Gráfico de Gantt)\")\n",
    "    plt.yticks(range(len(tasks)), [f\"T{task}\" for task in tasks])\n",
    "    plt.grid(axis=\"x\", linestyle=\"--\", alpha=0.7)\n",
    "    plt.show()"
   ]
  },
  {
   "cell_type": "markdown",
   "id": "b7a39ed3-9a63-4d6d-bc9d-ee7b190120ab",
   "metadata": {},
   "source": [
    "# Visualização do Cronograma"
   ]
  },
  {
   "cell_type": "markdown",
   "id": "a6867d6c-e0e1-4d88-aba7-14d73146a8cd",
   "metadata": {
    "jp-MarkdownHeadingCollapsed": true
   },
   "source": [
    "## Visualizar o cronograma com gráfico de Gantt"
   ]
  },
  {
   "cell_type": "code",
   "execution_count": 80,
   "id": "6f45c282-2b36-4bf8-b375-fc1194309839",
   "metadata": {},
   "outputs": [
    {
     "data": {
      "image/png": "[encoded data removed]",
      "text/plain": [
       "<Figure size 1000x600 with 1 Axes>"
      ]
     },
     "metadata": {},
     "output_type": "display_data"
    }
   ],
   "source": [
    "\n",
    "plot_gantt_chart(basic_schedule, parsed_data[\"duration_and_resources\"])"
   ]
  },
  {
   "cell_type": "markdown",
   "id": "ad991444-9259-43fe-876d-01dc9acd0920",
   "metadata": {
    "jp-MarkdownHeadingCollapsed": true
   },
   "source": [
    "# Planeamento com Heurística"
   ]
  },
  {
   "cell_type": "markdown",
   "id": "da668a31-0632-44c3-b3ca-828d6f5e80e4",
   "metadata": {},
   "source": [
    "Utilizar o **Caminho Crítico** como uma heurística para priorizar tarefas no cronograma. O caminho crítico é a sequência de tarefas que determina o tempo total do projeto isto ajuda a reduzir o **makespan**.\n",
    "\n",
    "---\n",
    "\n",
    "### Exemplo de Saída\n",
    "\n",
    "Para um grafo com:\n",
    "- Tarefas: T1, T2, T3, T4\n",
    "- Precedências:\n",
    "  - T1 → T2, T1 → T3\n",
    "  - T2 → T4, T3 → T4\n",
    "- Duração:\n",
    "  - T1 = 2, T2 = 3, T3 = 4, T4 = 1\n",
    "\n",
    "O caminho crítico será `T1 → T3 → T4` com duração total de 7."
   ]
  },
  {
   "cell_type": "markdown",
   "id": "737e99b8-6692-4a11-9b8f-ea22316cc29e",
   "metadata": {},
   "source": [
    "## Calcular o Caminho Crítico"
   ]
  },
  {
   "cell_type": "code",
   "execution_count": 17,
   "id": "7869606f-c685-4b03-9e4d-075da4c57d53",
   "metadata": {},
   "outputs": [],
   "source": [
    "def calculate_critical_path(precedence_relations, duration_and_resources):\n",
    "    \"\"\"Calcula o caminho crítico de um grafo de precedências.\"\"\"\n",
    "    durations = {d[\"task\"]: d[\"duration\"] for d in duration_and_resources}\n",
    "    successors = {rel[\"task\"]: rel[\"successors\"] for rel in precedence_relations}\n",
    "\n",
    "    critical_path = {}\n",
    "\n",
    "    def path_length(task):\n",
    "        if task in critical_path:\n",
    "            return critical_path[task]\n",
    "        if task not in successors or not successors[task]:\n",
    "            critical_path[task] = durations[task]\n",
    "        else:\n",
    "            critical_path[task] = durations[task] + max(path_length(succ) for succ in successors[task])\n",
    "        return critical_path[task]\n",
    "\n",
    "    for task in durations:\n",
    "        path_length(task)\n",
    "\n",
    "    return sorted(critical_path, key=lambda x: -critical_path[x])"
   ]
  },
  {
   "cell_type": "code",
   "execution_count": 18,
   "id": "d6e1fdec-4b76-4a9f-9e97-8a4ea4bbabaf",
   "metadata": {},
   "outputs": [],
   "source": [
    "def calculate_critical_path(precedence_relations, duration_and_resources):\n",
    "    \"\"\"\n",
    "    Calcula o caminho crítico do projeto.\n",
    "    :param precedence_relations: Relações de precedência entre tarefas.\n",
    "    :param duration_and_resources: Duração de cada tarefa.\n",
    "    :return: Lista com o caminho crítico.\n",
    "    \"\"\"\n",
    "    # Criar dicionários para as durações e predecessores\n",
    "    durations = {d[\"task\"]: d[\"duration\"] for d in duration_and_resources}\n",
    "    predecessors = {rel[\"task\"]: [] for rel in precedence_relations}\n",
    "\n",
    "    for rel in precedence_relations:\n",
    "        for successor in rel[\"successors\"]:\n",
    "            if successor in predecessors:\n",
    "                predecessors[successor].append(rel[\"task\"])\n",
    "\n",
    "    # Calcular a duração acumulada para cada tarefa\n",
    "    accumulated_durations = {task: 0 for task in durations.keys()}\n",
    "\n",
    "    def calculate_accumulated_time(task):\n",
    "        \"\"\"\n",
    "        Calcula recursivamente o tempo acumulado até a tarefa atual.\n",
    "        \"\"\"\n",
    "        if accumulated_durations[task] > 0:  # Já calculado\n",
    "            return accumulated_durations[task]\n",
    "        if not predecessors[task]:  # Sem predecessores\n",
    "            accumulated_durations[task] = durations[task]\n",
    "        else:\n",
    "            accumulated_durations[task] = durations[task] + max(\n",
    "                calculate_accumulated_time(pred) for pred in predecessors[task]\n",
    "            )\n",
    "        return accumulated_durations[task]\n",
    "\n",
    "    # Calcular o tempo acumulado para todas as tarefas\n",
    "    for task in durations.keys():\n",
    "        calculate_accumulated_time(task)\n",
    "\n",
    "    # Identificar a tarefa final (maior duração acumulada)\n",
    "    max_duration = max(accumulated_durations.values())\n",
    "    end_task = max(accumulated_durations, key=accumulated_durations.get)\n",
    "\n",
    "    # Construir o caminho crítico de trás para frente\n",
    "    critical_path = []\n",
    "\n",
    "    def build_critical_path(task):\n",
    "        \"\"\"\n",
    "        Constrói o caminho crítico a partir da tarefa final.\n",
    "        \"\"\"\n",
    "        if task in critical_path:\n",
    "            return\n",
    "        critical_path.insert(0, task)  # Adicionar no início\n",
    "        for pred in predecessors.get(task, []):\n",
    "            if accumulated_durations[pred] + durations[task] == accumulated_durations[task]:\n",
    "                build_critical_path(pred)\n",
    "\n",
    "    # Construir o caminho crítico começando da tarefa final\n",
    "    build_critical_path(end_task)\n",
    "\n",
    "    return critical_path\n",
    "\n",
    "\n"
   ]
  },
  {
   "cell_type": "code",
   "execution_count": 19,
   "id": "2807d886-146d-43c6-be00-3b13a930b696",
   "metadata": {},
   "outputs": [
    {
     "name": "stdout",
     "output_type": "stream",
     "text": [
      "Caminho Crítico Corrigido: [1, 2, 5, 7, 10]\n"
     ]
    }
   ],
   "source": [
    "# Calcular o Caminho Crítico\n",
    "critical_path = calculate_critical_path(\n",
    "    parsed_data[\"precedence_relations\"],\n",
    "    parsed_data[\"duration_and_resources\"]\n",
    ")\n",
    "\n",
    "# Exibir o Caminho Crítico\n",
    "print(\"Caminho Crítico Corrigido:\", critical_path)\n"
   ]
  },
  {
   "cell_type": "markdown",
   "id": "3a3517c7-bc8d-4467-99a2-7b86fbd82f20",
   "metadata": {},
   "source": [
    "## Heurística do Caminho Crítico"
   ]
  },
  {
   "cell_type": "code",
   "execution_count": 20,
   "id": "d07a804f-92a8-46f0-8e56-951d203cc7c4",
   "metadata": {},
   "outputs": [
    {
     "name": "stdout",
     "output_type": "stream",
     "text": [
      "Caminho Crítico: [1, 2, 5, 7, 10]\n"
     ]
    }
   ],
   "source": [
    "def plan_tasks_critical_path(precedence_relations, duration_and_resources, resource_availability, horizon):\n",
    "    \"\"\"Planeamento baseado no Caminho Crítico.\"\"\"\n",
    "    critical_path = calculate_critical_path(precedence_relations, duration_and_resources)\n",
    "    print(\"Caminho Crítico:\", critical_path)\n",
    "    return create_basic_schedule(precedence_relations, duration_and_resources, resource_availability, horizon)\n",
    "\n",
    "# Planeamento usando o Caminho Crítico\n",
    "critical_path_schedule = plan_tasks_critical_path(\n",
    "    parsed_data[\"precedence_relations\"],\n",
    "    parsed_data[\"duration_and_resources\"],\n",
    "    parsed_data[\"resource_availability\"],\n",
    "    parsed_data[\"general_info\"][\"horizon\"]\n",
    ")"
   ]
  },
  {
   "cell_type": "code",
   "execution_count": 21,
   "id": "adf3debb-bbab-40f7-9ee9-b08925f638cd",
   "metadata": {},
   "outputs": [],
   "source": [
    "def parsed_data_critical_path(critical_path, parsed_data):\n",
    "    \"\"\"\n",
    "    Reorganiza os dados de acordo com o caminho crítico calculado.\n",
    "    \n",
    "    :param critical_path: Lista de tarefas no caminho crítico.\n",
    "    :param parsed_data: Estrutura original com informações das tarefas.\n",
    "    :return: Dados organizados para o caminho crítico.\n",
    "    \"\"\"\n",
    "    # Dicionário original das durações e recursos\n",
    "    duration_and_resources = parsed_data[\"duration_and_resources\"]\n",
    "    precedence_relations = parsed_data[\"precedence_relations\"]\n",
    "\n",
    "    # Reorganizar os dados baseados no caminho crítico\n",
    "    critical_path_data = []\n",
    "    for task in critical_path:\n",
    "        # Buscar informações da tarefa\n",
    "        task_info = next((d for d in duration_and_resources if d[\"task\"] == task), None)\n",
    "        if task_info:\n",
    "            critical_path_data.append({\n",
    "                \"task\": task,\n",
    "                \"duration\": task_info[\"duration\"],\n",
    "                \"resources\": task_info[\"resources\"],\n",
    "                \"successors\": next((rel[\"successors\"] for rel in precedence_relations if rel[\"task\"] == task), [])\n",
    "            })\n",
    "\n",
    "    # Retornar dados reorganizados para o caminho crítico\n",
    "    return {\n",
    "        \"critical_path\": critical_path,\n",
    "        \"tasks\": critical_path_data,\n",
    "        \"precedence_relations\": precedence_relations,\n",
    "        \"duration_and_resources\": duration_and_resources\n",
    "    }\n"
   ]
  },
  {
   "cell_type": "code",
   "execution_count": 22,
   "id": "d033bce2-37d0-4190-b467-57e4932dcd92",
   "metadata": {},
   "outputs": [
    {
     "name": "stdout",
     "output_type": "stream",
     "text": [
      "Dados do Caminho Crítico:\n",
      "{\n",
      "    \"critical_path\": [\n",
      "        1,\n",
      "        2,\n",
      "        5,\n",
      "        7,\n",
      "        10\n",
      "    ],\n",
      "    \"tasks\": [\n",
      "        {\n",
      "            \"task\": 1,\n",
      "            \"duration\": 0,\n",
      "            \"resources\": {\n",
      "                \"R1\": 0,\n",
      "                \"R2\": 0\n",
      "            },\n",
      "            \"successors\": [\n",
      "                2,\n",
      "                3,\n",
      "                4\n",
      "            ]\n",
      "        },\n",
      "        {\n",
      "            \"task\": 2,\n",
      "            \"duration\": 3,\n",
      "            \"resources\": {\n",
      "                \"R1\": 6,\n",
      "                \"R2\": 2\n",
      "            },\n",
      "            \"successors\": [\n",
      "                5,\n",
      "                6\n",
      "            ]\n",
      "        },\n",
      "        {\n",
      "            \"task\": 5,\n",
      "            \"duration\": 4,\n",
      "            \"resources\": {\n",
      "                \"R1\": 0,\n",
      "                \"R2\": 4\n",
      "            },\n",
      "            \"successors\": [\n",
      "                7,\n",
      "                8\n",
      "            ]\n",
      "        },\n",
      "        {\n",
      "            \"task\": 7,\n",
      "            \"duration\": 6,\n",
      "            \"resources\": {\n",
      "                \"R1\": 2,\n",
      "                \"R2\": 0\n",
      "            },\n",
      "            \"successors\": [\n",
      "                9,\n",
      "                10\n",
      "            ]\n",
      "        },\n",
      "        {\n",
      "            \"task\": 10,\n",
      "            \"duration\": 7,\n",
      "            \"resources\": {\n",
      "                \"R1\": 2,\n",
      "                \"R2\": 1\n",
      "            },\n",
      "            \"successors\": [\n",
      "                12\n",
      "            ]\n",
      "        }\n",
      "    ],\n",
      "    \"precedence_relations\": [\n",
      "        {\n",
      "            \"task\": 1,\n",
      "            \"successors\": [\n",
      "                2,\n",
      "                3,\n",
      "                4\n",
      "            ]\n",
      "        },\n",
      "        {\n",
      "            \"task\": 2,\n",
      "            \"successors\": [\n",
      "                5,\n",
      "                6\n",
      "            ]\n",
      "        },\n",
      "        {\n",
      "            \"task\": 3,\n",
      "            \"successors\": [\n",
      "                10,\n",
      "                11\n",
      "            ]\n",
      "        },\n",
      "        {\n",
      "            \"task\": 4,\n",
      "            \"successors\": [\n",
      "                9\n",
      "            ]\n",
      "        },\n",
      "        {\n",
      "            \"task\": 5,\n",
      "            \"successors\": [\n",
      "                7,\n",
      "                8\n",
      "            ]\n",
      "        },\n",
      "        {\n",
      "            \"task\": 6,\n",
      "            \"successors\": [\n",
      "                10,\n",
      "                11\n",
      "            ]\n",
      "        },\n",
      "        {\n",
      "            \"task\": 7,\n",
      "            \"successors\": [\n",
      "                9,\n",
      "                10\n",
      "            ]\n",
      "        },\n",
      "        {\n",
      "            \"task\": 8,\n",
      "            \"successors\": [\n",
      "                9\n",
      "            ]\n",
      "        },\n",
      "        {\n",
      "            \"task\": 9,\n",
      "            \"successors\": [\n",
      "                12\n",
      "            ]\n",
      "        },\n",
      "        {\n",
      "            \"task\": 10,\n",
      "            \"successors\": [\n",
      "                12\n",
      "            ]\n",
      "        },\n",
      "        {\n",
      "            \"task\": 11,\n",
      "            \"successors\": [\n",
      "                12\n",
      "            ]\n",
      "        },\n",
      "        {\n",
      "            \"task\": 12,\n",
      "            \"successors\": []\n",
      "        }\n",
      "    ],\n",
      "    \"duration_and_resources\": [\n",
      "        {\n",
      "            \"task\": 1,\n",
      "            \"duration\": 0,\n",
      "            \"resources\": {\n",
      "                \"R1\": 0,\n",
      "                \"R2\": 0\n",
      "            }\n",
      "        },\n",
      "        {\n",
      "            \"task\": 2,\n",
      "            \"duration\": 3,\n",
      "            \"resources\": {\n",
      "                \"R1\": 6,\n",
      "                \"R2\": 2\n",
      "            }\n",
      "        },\n",
      "        {\n",
      "            \"task\": 3,\n",
      "            \"duration\": 1,\n",
      "            \"resources\": {\n",
      "                \"R1\": 0,\n",
      "                \"R2\": 0\n",
      "            }\n",
      "        },\n",
      "        {\n",
      "            \"task\": 4,\n",
      "            \"duration\": 8,\n",
      "            \"resources\": {\n",
      "                \"R1\": 4,\n",
      "                \"R2\": 0\n",
      "            }\n",
      "        },\n",
      "        {\n",
      "            \"task\": 5,\n",
      "            \"duration\": 4,\n",
      "            \"resources\": {\n",
      "                \"R1\": 0,\n",
      "                \"R2\": 4\n",
      "            }\n",
      "        },\n",
      "        {\n",
      "            \"task\": 6,\n",
      "            \"duration\": 4,\n",
      "            \"resources\": {\n",
      "                \"R1\": 0,\n",
      "                \"R2\": 4\n",
      "            }\n",
      "        },\n",
      "        {\n",
      "            \"task\": 7,\n",
      "            \"duration\": 6,\n",
      "            \"resources\": {\n",
      "                \"R1\": 2,\n",
      "                \"R2\": 0\n",
      "            }\n",
      "        },\n",
      "        {\n",
      "            \"task\": 8,\n",
      "            \"duration\": 4,\n",
      "            \"resources\": {\n",
      "                \"R1\": 4,\n",
      "                \"R2\": 2\n",
      "            }\n",
      "        },\n",
      "        {\n",
      "            \"task\": 9,\n",
      "            \"duration\": 5,\n",
      "            \"resources\": {\n",
      "                \"R1\": 3,\n",
      "                \"R2\": 0\n",
      "            }\n",
      "        },\n",
      "        {\n",
      "            \"task\": 10,\n",
      "            \"duration\": 7,\n",
      "            \"resources\": {\n",
      "                \"R1\": 2,\n",
      "                \"R2\": 1\n",
      "            }\n",
      "        },\n",
      "        {\n",
      "            \"task\": 11,\n",
      "            \"duration\": 4,\n",
      "            \"resources\": {\n",
      "                \"R1\": 0,\n",
      "                \"R2\": 3\n",
      "            }\n",
      "        },\n",
      "        {\n",
      "            \"task\": 12,\n",
      "            \"duration\": 0,\n",
      "            \"resources\": {\n",
      "                \"R1\": 0,\n",
      "                \"R2\": 0\n",
      "            }\n",
      "        }\n",
      "    ]\n",
      "}\n"
     ]
    }
   ],
   "source": [
    "# Gerar os dados organizados para o caminho crítico\n",
    "critical_path_data = parsed_data_critical_path(critical_path, parsed_data)\n",
    "\n",
    "# Apresentar os dados\n",
    "import json\n",
    "print(\"Dados do Caminho Crítico:\")\n",
    "print(json.dumps(critical_path_data, indent=4))"
   ]
  },
  {
   "cell_type": "code",
   "execution_count": 23,
   "id": "b715904d-b208-4f9a-be75-aa32e13b43cd",
   "metadata": {},
   "outputs": [
    {
     "name": "stdout",
     "output_type": "stream",
     "text": [
      "Validação do Caminho Crítico: Válida\n",
      "Caminho Crítico é válido? True\n"
     ]
    }
   ],
   "source": [
    "def validate_critical_path(precedence_relations, critical_path):\n",
    "    \"\"\"\n",
    "    Valida se o caminho crítico respeita as precedências.\n",
    "    :param precedence_relations: Relações de precedência.\n",
    "    :param critical_path: Caminho crítico calculado.\n",
    "    :return: True se válido, False caso contrário.\n",
    "    \"\"\"\n",
    "    precedence_dict = {rel[\"task\"]: rel[\"successors\"] for rel in precedence_relations}\n",
    "\n",
    "    for i in range(len(critical_path) - 1):\n",
    "        current_task = critical_path[i]\n",
    "        next_task = critical_path[i + 1]\n",
    "        if next_task not in precedence_dict.get(current_task, []):\n",
    "            print(f\"Erro: A tarefa {next_task} não é sucessora direta de {current_task}\")\n",
    "            return False\n",
    "    print(\"Validação do Caminho Crítico: Válida\")\n",
    "    return True\n",
    "\n",
    "# Validar o Caminho Crítico\n",
    "is_valid = validate_critical_path(parsed_data[\"precedence_relations\"], critical_path)\n",
    "print(\"Caminho Crítico é válido?\", is_valid)\n"
   ]
  },
  {
   "cell_type": "markdown",
   "id": "4a04ecb4-08d7-42d5-ae0a-5f8df5771c6c",
   "metadata": {},
   "source": [
    "## Validar Caminho Crítico"
   ]
  },
  {
   "cell_type": "code",
   "execution_count": 24,
   "id": "0cdd03c8-05d8-462d-8f6d-8823c4f832ff",
   "metadata": {},
   "outputs": [
    {
     "name": "stdout",
     "output_type": "stream",
     "text": [
      "Validação do Caminho Crítico: Válida\n"
     ]
    },
    {
     "data": {
      "text/plain": [
       "True"
      ]
     },
     "execution_count": 24,
     "metadata": {},
     "output_type": "execute_result"
    }
   ],
   "source": [
    "def validate_critical_path_order(critical_path, precedence_relations):\n",
    "    \"\"\"Valida se o caminho crítico respeita as precedências.\"\"\"\n",
    "    precedence_dict = {rel[\"task\"]: rel[\"successors\"] for rel in precedence_relations}\n",
    "    for i in range(len(critical_path) - 1):\n",
    "        current_task = critical_path[i]\n",
    "        next_task = critical_path[i + 1]\n",
    "        if next_task not in precedence_dict.get(current_task, []):\n",
    "            print(f\"Erro: A tarefa {next_task} não é sucessora direta de {current_task}\")\n",
    "            return False\n",
    "    print(\"Validação do Caminho Crítico: Válida\")\n",
    "    return True\n",
    "\n",
    "# Validação\n",
    "validate_critical_path_order(\n",
    "    critical_path=calculate_critical_path(\n",
    "        parsed_data[\"precedence_relations\"], parsed_data[\"duration_and_resources\"]\n",
    "    ),\n",
    "    precedence_relations=parsed_data[\"precedence_relations\"]\n",
    ")\n"
   ]
  },
  {
   "cell_type": "markdown",
   "id": "09a72de5-66b7-4323-9895-6722eb4d0a4d",
   "metadata": {},
   "source": [
    "## Construir cronograma"
   ]
  },
  {
   "cell_type": "code",
   "execution_count": 25,
   "id": "4dcd44b0-343a-4eb0-84ba-1b299a9983a8",
   "metadata": {},
   "outputs": [],
   "source": [
    "def build_schedule(critical_path, precedence_relations, duration_and_resources, resource_availability, horizon):\n",
    "    \"\"\"\n",
    "    Constrói um cronograma baseado no caminho crítico.\n",
    "    :param critical_path: Lista de tarefas no caminho crítico.\n",
    "    :param precedence_relations: Relações de precedência entre tarefas.\n",
    "    :param duration_and_resources: Informações de duração e recursos de cada tarefa.\n",
    "    :param resource_availability: Recursos disponíveis por unidade de tempo.\n",
    "    :param horizon: Horizonte de tempo definido.\n",
    "    :return: Cronograma com o tempo de início de cada tarefa.\n",
    "    \"\"\"\n",
    "    # Inicializar estruturas\n",
    "    schedule = {}\n",
    "    resource_usage = {r: [0] * horizon for r in resource_availability.keys()}\n",
    "    durations = {d[\"task\"]: d[\"duration\"] for d in duration_and_resources}\n",
    "    resources = {d[\"task\"]: d[\"resources\"] for d in duration_and_resources}\n",
    "\n",
    "    # Planejar tarefas do caminho crítico\n",
    "    for task in critical_path:\n",
    "        duration = durations[task]\n",
    "        task_resources = resources[task]\n",
    "\n",
    "        # Encontrar o primeiro intervalo de tempo disponível\n",
    "        start_time = 0\n",
    "        while start_time < horizon:\n",
    "            is_feasible = True\n",
    "            for t in range(start_time, start_time + duration):\n",
    "                if t >= horizon:  # Fora do horizonte\n",
    "                    is_feasible = False\n",
    "                    break\n",
    "                for r, amount in task_resources.items():\n",
    "                    if resource_usage[r][t] + amount > resource_availability[r]:\n",
    "                        is_feasible = False\n",
    "                        break\n",
    "                if not is_feasible:\n",
    "                    break\n",
    "\n",
    "            if is_feasible:\n",
    "                # Atualizar uso de recursos\n",
    "                for t in range(start_time, start_time + duration):\n",
    "                    for r, amount in task_resources.items():\n",
    "                        resource_usage[r][t] += amount\n",
    "                schedule[task] = start_time\n",
    "                break\n",
    "            start_time += 1\n",
    "\n",
    "    # Planejar tarefas não críticas\n",
    "    all_tasks = {rel[\"task\"] for rel in precedence_relations}\n",
    "    non_critical_tasks = all_tasks - set(critical_path)\n",
    "    for task in non_critical_tasks:\n",
    "        duration = durations[task]\n",
    "        task_resources = resources[task]\n",
    "\n",
    "        # Encontrar o primeiro intervalo de tempo disponível respeitando predecessores\n",
    "        start_time = 0\n",
    "        predecessors = [\n",
    "            rel[\"task\"]\n",
    "            for rel in precedence_relations\n",
    "            if task in rel[\"successors\"]\n",
    "        ]\n",
    "        if predecessors:\n",
    "            start_time = max(schedule[pred] + durations[pred] for pred in predecessors)\n",
    "\n",
    "        while start_time < horizon:\n",
    "            is_feasible = True\n",
    "            for t in range(start_time, start_time + duration):\n",
    "                if t >= horizon:\n",
    "                    is_feasible = False\n",
    "                    break\n",
    "                for r, amount in task_resources.items():\n",
    "                    if resource_usage[r][t] + amount > resource_availability[r]:\n",
    "                        is_feasible = False\n",
    "                        break\n",
    "                if not is_feasible:\n",
    "                    break\n",
    "\n",
    "            if is_feasible:\n",
    "                # Atualizar uso de recursos\n",
    "                for t in range(start_time, start_time + duration):\n",
    "                    for r, amount in task_resources.items():\n",
    "                        resource_usage[r][t] += amount\n",
    "                schedule[task] = start_time\n",
    "                break\n",
    "            start_time += 1\n",
    "\n",
    "    return schedule\n"
   ]
  },
  {
   "cell_type": "code",
   "execution_count": 44,
   "id": "50f3c0b0-05ab-45b2-afbf-de41a52007ce",
   "metadata": {},
   "outputs": [],
   "source": [
    "def build_schedule(critical_path, precedence_relations, duration_and_resources, resource_availability, horizon):\n",
    "    \"\"\"\n",
    "    Constrói um cronograma estrito respeitando todas as restrições de precedência e recursos.\n",
    "    :param critical_path: Lista de tarefas no caminho crítico.\n",
    "    :param precedence_relations: Relações de precedência entre tarefas.\n",
    "    :param duration_and_resources: Informações de duração e recursos de cada tarefa.\n",
    "    :param resource_availability: Recursos disponíveis por unidade de tempo.\n",
    "    :param horizon: Horizonte de tempo definido.\n",
    "    :return: Cronograma com o tempo de início de cada tarefa.\n",
    "    \"\"\"\n",
    "    # Inicializar estruturas\n",
    "    schedule = {}\n",
    "    resource_usage = {r: [0] * horizon for r in resource_availability.keys()}\n",
    "    durations = {d[\"task\"]: d[\"duration\"] for d in duration_and_resources}\n",
    "    resources = {d[\"task\"]: d[\"resources\"] for d in duration_and_resources}\n",
    "\n",
    "    def can_schedule(task, start_time):\n",
    "        \"\"\"Valida se a tarefa pode ser agendada no tempo especificado.\"\"\"\n",
    "        duration = durations[task]\n",
    "        task_resources = resources[task]\n",
    "        for t in range(start_time, start_time + duration):\n",
    "            if t >= horizon:  # Fora do horizonte\n",
    "                return False\n",
    "            for r, amount in task_resources.items():\n",
    "                if resource_usage[r][t] + amount > resource_availability[r]:\n",
    "                    return False\n",
    "        return True\n",
    "\n",
    "    def apply_schedule(task, start_time):\n",
    "        \"\"\"Aplica o agendamento da tarefa atualizando o uso de recursos.\"\"\"\n",
    "        duration = durations[task]\n",
    "        task_resources = resources[task]\n",
    "        for t in range(start_time, start_time + duration):\n",
    "            for r, amount in task_resources.items():\n",
    "                resource_usage[r][t] += amount\n",
    "        schedule[task] = start_time\n",
    "\n",
    "    # Planejar tarefas do caminho crítico\n",
    "    for task in critical_path:\n",
    "        start_time = 0\n",
    "        while not can_schedule(task, start_time):\n",
    "            start_time += 1\n",
    "        apply_schedule(task, start_time)\n",
    "\n",
    "    # Planejar tarefas não críticas\n",
    "    all_tasks = {rel[\"task\"] for rel in precedence_relations}\n",
    "    non_critical_tasks = all_tasks - set(critical_path)\n",
    "    for task in non_critical_tasks:\n",
    "        start_time = 0\n",
    "        predecessors = [\n",
    "            rel[\"task\"]\n",
    "            for rel in precedence_relations\n",
    "            if task in rel[\"successors\"]\n",
    "        ]\n",
    "        if predecessors:\n",
    "            start_time = max(schedule[pred] + durations[pred] for pred in predecessors)\n",
    "\n",
    "        while not can_schedule(task, start_time):\n",
    "            start_time += 1\n",
    "        apply_schedule(task, start_time)\n",
    "\n",
    "    return schedule"
   ]
  },
  {
   "cell_type": "code",
   "execution_count": 45,
   "id": "327f6f4d-a7a3-477f-9521-303018c73c1a",
   "metadata": {},
   "outputs": [
    {
     "name": "stdout",
     "output_type": "stream",
     "text": [
      "Cronograma Final:\n",
      "Tarefa 1: Início no tempo 0\n",
      "Tarefa 2: Início no tempo 0\n",
      "Tarefa 3: Início no tempo 0\n",
      "Tarefa 4: Início no tempo 9\n",
      "Tarefa 5: Início no tempo 3\n",
      "Tarefa 6: Início no tempo 14\n",
      "Tarefa 7: Início no tempo 3\n",
      "Tarefa 8: Início no tempo 18\n",
      "Tarefa 9: Início no tempo 22\n",
      "Tarefa 10: Início no tempo 7\n",
      "Tarefa 11: Início no tempo 22\n",
      "Tarefa 12: Início no tempo 27\n"
     ]
    }
   ],
   "source": [
    "# Construir o cronograma\n",
    "schedule = build_schedule(\n",
    "    critical_path=critical_path,\n",
    "    precedence_relations=parsed_data[\"precedence_relations\"],\n",
    "    duration_and_resources=parsed_data[\"duration_and_resources\"],\n",
    "    resource_availability=parsed_data[\"resource_availability\"],\n",
    "    horizon=parsed_data[\"general_info\"][\"horizon\"]\n",
    ")\n",
    "\n",
    "# Exibir o Cronograma\n",
    "print(\"Cronograma Final:\")\n",
    "for task, start_time in sorted(schedule.items()):\n",
    "    print(f\"Tarefa {task}: Início no tempo {start_time}\")\n"
   ]
  },
  {
   "cell_type": "code",
   "execution_count": 46,
   "id": "5416aa5e-2183-4968-9bcd-a0461a259f47",
   "metadata": {},
   "outputs": [
    {
     "name": "stdout",
     "output_type": "stream",
     "text": [
      "Validação de Recursos: Todos os recursos respeitados.\n"
     ]
    },
    {
     "data": {
      "text/plain": [
       "True"
      ]
     },
     "execution_count": 46,
     "metadata": {},
     "output_type": "execute_result"
    }
   ],
   "source": [
    "def validate_resource_constraints(schedule, duration_and_resources, resource_availability, horizon):\n",
    "    resource_usage = {r: [0] * horizon for r in resource_availability.keys()}\n",
    "    \n",
    "    for task, start_time in schedule.items():\n",
    "        task_info = next(d for d in duration_and_resources if d[\"task\"] == task)\n",
    "        duration = task_info[\"duration\"]\n",
    "        resources_needed = task_info[\"resources\"]\n",
    "        \n",
    "        for t in range(start_time, start_time + duration):\n",
    "            for r, amount in resources_needed.items():\n",
    "                resource_usage[r][t] += amount\n",
    "                if resource_usage[r][t] > resource_availability[r]:\n",
    "                    print(f\"Erro: Recurso {r} excedido no tempo {t} pela Tarefa {task}\")\n",
    "                    return False\n",
    "    \n",
    "    print(\"Validação de Recursos: Todos os recursos respeitados.\")\n",
    "    return True\n",
    "\n",
    "validate_resource_constraints(\n",
    "    schedule,\n",
    "    parsed_data[\"duration_and_resources\"],\n",
    "    parsed_data[\"resource_availability\"],\n",
    "    parsed_data[\"general_info\"][\"horizon\"]\n",
    ")\n"
   ]
  },
  {
   "cell_type": "code",
   "execution_count": 47,
   "id": "8021b8d5-38e9-4c53-9635-bcfa27e7b0f2",
   "metadata": {},
   "outputs": [
    {
     "name": "stdout",
     "output_type": "stream",
     "text": [
      "Erro: Precedência violada entre Tarefa 5 -> Tarefa 7\n"
     ]
    },
    {
     "data": {
      "text/plain": [
       "False"
      ]
     },
     "execution_count": 47,
     "metadata": {},
     "output_type": "execute_result"
    }
   ],
   "source": [
    "def validate_precedences(schedule, precedence_relations, duration_and_resources):\n",
    "    for relation in precedence_relations:\n",
    "        task = relation[\"task\"]\n",
    "        for successor in relation[\"successors\"]:\n",
    "            task_end_time = schedule[task] + next(\n",
    "                d[\"duration\"] for d in duration_and_resources if d[\"task\"] == task\n",
    "            )\n",
    "            if schedule[successor] < task_end_time:\n",
    "                print(f\"Erro: Precedência violada entre Tarefa {task} -> Tarefa {successor}\")\n",
    "                return False\n",
    "    print(\"Validação de Precedências: Todas as precedências respeitadas.\")\n",
    "    return True\n",
    "\n",
    "validate_precedences(\n",
    "    schedule,\n",
    "    parsed_data[\"precedence_relations\"],\n",
    "    parsed_data[\"duration_and_resources\"]\n",
    ")\n"
   ]
  },
  {
   "cell_type": "code",
   "execution_count": 48,
   "id": "352e5470-76a5-4630-90da-49ad4ffdddc6",
   "metadata": {},
   "outputs": [
    {
     "name": "stdout",
     "output_type": "stream",
     "text": [
      "Validação do Horizonte: Respeitado.\n"
     ]
    },
    {
     "data": {
      "text/plain": [
       "True"
      ]
     },
     "execution_count": 48,
     "metadata": {},
     "output_type": "execute_result"
    }
   ],
   "source": [
    "def validate_horizon(schedule, duration_and_resources, horizon):\n",
    "    for task, start_time in schedule.items():\n",
    "        duration = next(d[\"duration\"] for d in duration_and_resources if d[\"task\"] == task)\n",
    "        if start_time + duration > horizon:\n",
    "            print(f\"Erro: Tarefa {task} excede o horizonte de tempo.\")\n",
    "            return False\n",
    "    print(\"Validação do Horizonte: Respeitado.\")\n",
    "    return True\n",
    "\n",
    "validate_horizon(\n",
    "    schedule,\n",
    "    parsed_data[\"duration_and_resources\"],\n",
    "    parsed_data[\"general_info\"][\"horizon\"]\n",
    ")\n"
   ]
  },
  {
   "cell_type": "code",
   "execution_count": 49,
   "id": "cec6ebef-8d19-46fc-bd35-e759958c4fc1",
   "metadata": {},
   "outputs": [
    {
     "data": {
      "image/png": "[encoded data removed]",
      "text/plain": [
       "<Figure size 1000x600 with 1 Axes>"
      ]
     },
     "metadata": {},
     "output_type": "display_data"
    }
   ],
   "source": [
    "# Gerar o gráfico\n",
    "plot_gantt_chart(schedule, parsed_data[\"duration_and_resources\"])"
   ]
  },
  {
   "cell_type": "code",
   "execution_count": 50,
   "id": "fce4eb15-e1c9-4038-a241-ed6c139825b1",
   "metadata": {},
   "outputs": [
    {
     "data": {
      "image/png": "[encoded data removed]",
      "text/plain": [
       "<Figure size 1200x800 with 1 Axes>"
      ]
     },
     "metadata": {},
     "output_type": "display_data"
    }
   ],
   "source": [
    "# Visualizar o grafo com durações anotadas\n",
    "def plot_precedence_graph_with_durations(precedence_relations, duration_and_resources):\n",
    "    \"\"\"Plota o grafo de precedências com as durações anotadas.\"\"\"\n",
    "    G = nx.DiGraph()\n",
    "    durations = {d[\"task\"]: d[\"duration\"] for d in duration_and_resources}\n",
    "\n",
    "    # Adicionar arestas\n",
    "    for relation in precedence_relations:\n",
    "        task = relation[\"task\"]\n",
    "        for successor in relation[\"successors\"]:\n",
    "            G.add_edge(task, successor)\n",
    "\n",
    "    # Configurar os rótulos dos nós com as durações\n",
    "    node_labels = {task: f\"T{task}\\n({durations[task]})\" for task in G.nodes}\n",
    "\n",
    "    # Plotar o grafo\n",
    "    plt.figure(figsize=(12, 8))\n",
    "    pos = nx.spring_layout(G)\n",
    "    nx.draw(G, pos, with_labels=True, labels=node_labels, node_color='lightblue', node_size=2000, font_size=10)\n",
    "    nx.draw_networkx_edge_labels(G, pos, edge_labels={(u, v): \"\" for u, v in G.edges})\n",
    "    plt.title(\"Grafo de Precedências com Durações\")\n",
    "    plt.show()\n",
    "\n",
    "# Plotar o grafo\n",
    "plot_precedence_graph_with_durations(\n",
    "    critical_path_data[\"precedence_relations\"],\n",
    "    critical_path_data[\"duration_and_resources\"]\n",
    ")"
   ]
  },
  {
   "cell_type": "markdown",
   "id": "c1a86ecd-c403-4b71-9953-e0fcaca4f667",
   "metadata": {},
   "source": [
    "## Cronograma"
   ]
  },
  {
   "cell_type": "code",
   "execution_count": 51,
   "id": "b54aea39-6f07-4d9e-a306-871e233a9c7f",
   "metadata": {},
   "outputs": [
    {
     "name": "stdout",
     "output_type": "stream",
     "text": [
      "Cronograma (Caminho Crítico):\n",
      "Tarefa 1: Início 0\n",
      "Tarefa 2: Início 0\n",
      "Tarefa 3: Início 0\n",
      "Tarefa 4: Início 3\n",
      "Tarefa 5: Início 3\n",
      "Tarefa 6: Início 7\n",
      "Tarefa 7: Início 7\n",
      "Tarefa 8: Início 11\n",
      "Tarefa 9: Início 15\n",
      "Tarefa 10: Início 13\n",
      "Tarefa 11: Início 15\n",
      "Tarefa 12: Início 20\n"
     ]
    }
   ],
   "source": [
    "\n",
    "print(\"Cronograma (Caminho Crítico):\")\n",
    "for task, start_time in critical_path_schedule.items():\n",
    "    print(f\"Tarefa {task}: Início {start_time}\")"
   ]
  },
  {
   "cell_type": "markdown",
   "id": "e383acca-61c0-434d-9bb7-90a9c1e3fc0f",
   "metadata": {
    "jp-MarkdownHeadingCollapsed": true
   },
   "source": [
    "# Planeamento com Algoritmo A*"
   ]
  },
  {
   "cell_type": "markdown",
   "id": "dd733895-e5b2-4807-b859-1d7a6a9dbf7d",
   "metadata": {},
   "source": [
    "Criar um cronograma com recurso ao **Algoritmo A***. Este algoritmo encontra soluções otimizadas usando uma função de avaliação que combina:\n",
    "1. **Custo acumulado**: Tempo total até o momento.\n",
    "2. **Heurística**: Soma das durações das tarefas restantes como estimativa.\n"
   ]
  },
  {
   "cell_type": "markdown",
   "id": "7a18c82e-eace-48cc-b9e3-1a975825abc4",
   "metadata": {},
   "source": [
    "## Implementar Algoritmo A*"
   ]
  },
  {
   "cell_type": "code",
   "execution_count": 52,
   "id": "b0ea0a08-c2a9-4a93-afa9-4cb3ff637350",
   "metadata": {},
   "outputs": [],
   "source": [
    "import time\n",
    "import heapq\n",
    "from itertools import count\n",
    "\n",
    "def a_star_scheduler(precedence_relations, duration_and_resources, resource_availability, horizon):\n",
    "    durations = {d[\"task\"]: d[\"duration\"] for d in duration_and_resources}\n",
    "    resources = {d[\"task\"]: d[\"resources\"] for d in duration_and_resources}\n",
    "    successors = {rel[\"task\"]: rel[\"successors\"] for rel in precedence_relations}\n",
    "\n",
    "    def heuristic(state):\n",
    "        remaining_tasks = set(durations.keys()) - set(state[\"completed_tasks\"])\n",
    "        return sum(durations[task] for task in remaining_tasks)\n",
    "\n",
    "    initial_state = {\n",
    "        \"time\": 0,\n",
    "        \"completed_tasks\": [],\n",
    "        \"schedule\": {},\n",
    "        \"resource_usage\": {r: [0] * horizon for r in resource_availability}\n",
    "    }\n",
    "\n",
    "    frontier = []\n",
    "    heapq.heapify(frontier)\n",
    "    counter = count()\n",
    "    heapq.heappush(frontier, (0, next(counter), initial_state))\n",
    "\n",
    "    start_time = time.time()\n",
    "    while frontier:\n",
    "        if time.time() - start_time > 300:  # Limitar execução a 60 segundos\n",
    "            print(\"Execução interrompida por limite de tempo.\")\n",
    "            return None\n",
    "\n",
    "        _, _, current_state = heapq.heappop(frontier)\n",
    "\n",
    "        if len(current_state[\"completed_tasks\"]) == len(durations):\n",
    "            print(\"Cronograma encontrado!\")\n",
    "            return current_state[\"schedule\"]\n",
    "\n",
    "        for task in durations.keys():\n",
    "            if task in current_state[\"completed_tasks\"]:\n",
    "                continue\n",
    "\n",
    "            predecessors = [\n",
    "                pred for pred, rel in successors.items() if task in rel\n",
    "            ]\n",
    "            if any(pred not in current_state[\"completed_tasks\"] for pred in predecessors):\n",
    "                continue\n",
    "\n",
    "            start_time_task = max(\n",
    "                max(\n",
    "                    (current_state[\"schedule\"].get(pred, 0) + durations[pred] for pred in predecessors if pred in current_state[\"schedule\"]),\n",
    "                    default=0\n",
    "                ),\n",
    "                current_state[\"time\"]\n",
    "            )\n",
    "\n",
    "            duration = durations[task]\n",
    "            resources_needed = resources[task]\n",
    "            is_feasible = True\n",
    "\n",
    "            for t in range(start_time_task, start_time_task + duration):\n",
    "                if t >= horizon:\n",
    "                    is_feasible = False\n",
    "                    break\n",
    "                for r, amount in resources_needed.items():\n",
    "                    if current_state[\"resource_usage\"][r][t] + amount > resource_availability[r]:\n",
    "                        is_feasible = False\n",
    "                        break\n",
    "                if not is_feasible:\n",
    "                    break\n",
    "\n",
    "            if not is_feasible:\n",
    "                continue\n",
    "\n",
    "            new_resource_usage = {\n",
    "                r: usage.copy() for r, usage in current_state[\"resource_usage\"].items()\n",
    "            }\n",
    "            for t in range(start_time_task, start_time_task + duration):\n",
    "                for r, amount in resources_needed.items():\n",
    "                    new_resource_usage[r][t] += amount\n",
    "\n",
    "            new_state = {\n",
    "                \"time\": start_time_task + duration,\n",
    "                \"completed_tasks\": current_state[\"completed_tasks\"] + [task],\n",
    "                \"schedule\": {**current_state[\"schedule\"], task: start_time_task},\n",
    "                \"resource_usage\": new_resource_usage\n",
    "            }\n",
    "\n",
    "            priority = new_state[\"time\"] + heuristic(new_state)\n",
    "            heapq.heappush(frontier, (priority, next(counter), new_state))\n",
    "\n",
    "    print(\"Nenhum cronograma encontrado.\")\n",
    "    return None\n"
   ]
  },
  {
   "cell_type": "code",
   "execution_count": 53,
   "id": "4fe01059-9f03-4f31-97b9-64e2469b1bce",
   "metadata": {},
   "outputs": [
    {
     "name": "stdout",
     "output_type": "stream",
     "text": [
      "Cronograma encontrado!\n",
      "Cronograma gerado pelo A*:\n",
      "{1: 0, 2: 0, 3: 3, 4: 4, 5: 12, 6: 16, 7: 20, 8: 26, 9: 30, 10: 35, 11: 42, 12: 46}\n"
     ]
    }
   ],
   "source": [
    "# Executar o algoritmo A*\n",
    "a_star_schedule = a_star_scheduler(\n",
    "    parsed_data[\"precedence_relations\"],\n",
    "    parsed_data[\"duration_and_resources\"],\n",
    "    parsed_data[\"resource_availability\"],\n",
    "    parsed_data[\"general_info\"][\"horizon\"]\n",
    ")\n",
    "\n",
    "# Exibir o cronograma gerado\n",
    "print(\"Cronograma gerado pelo A*:\")\n",
    "print(a_star_schedule)\n"
   ]
  },
  {
   "cell_type": "code",
   "execution_count": 54,
   "id": "42bd2e6f-d75f-4324-b6a5-58b367d964d3",
   "metadata": {},
   "outputs": [
    {
     "name": "stdout",
     "output_type": "stream",
     "text": [
      "Validação de Precedências: Todas as precedências respeitadas.\n",
      "Validação de Recursos: Todos os recursos respeitados.\n",
      "Validação do Horizonte: Respeitado.\n"
     ]
    },
    {
     "data": {
      "text/plain": [
       "True"
      ]
     },
     "execution_count": 54,
     "metadata": {},
     "output_type": "execute_result"
    }
   ],
   "source": [
    "# Validar restrições de precedência\n",
    "validate_precedences(\n",
    "    a_star_schedule,\n",
    "    parsed_data[\"precedence_relations\"],\n",
    "    parsed_data[\"duration_and_resources\"]\n",
    ")\n",
    "\n",
    "# Validar uso de recursos\n",
    "validate_resource_constraints(\n",
    "    a_star_schedule,\n",
    "    parsed_data[\"duration_and_resources\"],\n",
    "    parsed_data[\"resource_availability\"],\n",
    "    parsed_data[\"general_info\"][\"horizon\"]\n",
    ")\n",
    "\n",
    "# Validar horizonte de tempo\n",
    "validate_horizon(\n",
    "    a_star_schedule,\n",
    "    parsed_data[\"duration_and_resources\"],\n",
    "    parsed_data[\"general_info\"][\"horizon\"]\n",
    ")\n"
   ]
  },
  {
   "cell_type": "markdown",
   "id": "f785f916-4d53-4309-8cb2-8bd74e9a202b",
   "metadata": {},
   "source": [
    "## Cronograma"
   ]
  },
  {
   "cell_type": "code",
   "execution_count": 55,
   "id": "4fc87d3d-1a50-4579-9264-2c845b6fbee1",
   "metadata": {},
   "outputs": [
    {
     "name": "stdout",
     "output_type": "stream",
     "text": [
      "Cronograma (A*):\n",
      "Tarefa 1: Início 0\n",
      "Tarefa 2: Início 0\n",
      "Tarefa 3: Início 3\n",
      "Tarefa 4: Início 4\n",
      "Tarefa 5: Início 12\n",
      "Tarefa 6: Início 16\n",
      "Tarefa 7: Início 20\n",
      "Tarefa 8: Início 26\n",
      "Tarefa 9: Início 30\n",
      "Tarefa 10: Início 35\n",
      "Tarefa 11: Início 42\n",
      "Tarefa 12: Início 46\n"
     ]
    }
   ],
   "source": [
    "print(\"Cronograma (A*):\")\n",
    "for task, start_time in a_star_schedule.items():\n",
    "    print(f\"Tarefa {task}: Início {start_time}\")"
   ]
  },
  {
   "cell_type": "code",
   "execution_count": 90,
   "id": "29c30ded-3dc9-432b-9220-1cf38bb2e787",
   "metadata": {},
   "outputs": [
    {
     "data": {
      "image/png": "[encoded data removed]",
      "text/plain": [
       "<Figure size 1000x600 with 1 Axes>"
      ]
     },
     "metadata": {},
     "output_type": "display_data"
    }
   ],
   "source": [
    "# Gerar o gráfico\n",
    "plot_gantt_chart(a_star_schedule, parsed_data[\"duration_and_resources\"])"
   ]
  },
  {
   "cell_type": "markdown",
   "id": "7edc180e-a2f7-40b8-9674-fb7e845c5c0d",
   "metadata": {
    "jp-MarkdownHeadingCollapsed": true
   },
   "source": [
    "# Gera um cronograma com python-constraint"
   ]
  },
  {
   "cell_type": "code",
   "execution_count": 103,
   "id": "70504100-c744-48df-8521-3e9ec5f6f9ed",
   "metadata": {},
   "outputs": [
    {
     "name": "stdout",
     "output_type": "stream",
     "text": [
      "Novo cronograma gerado:\n",
      "{9: 40, 10: 38, 12: 45, 7: 32, 5: 28, 2: 25, 6: 32, 11: 41, 1: 25, 3: 37, 8: 36, 4: 28}\n"
     ]
    }
   ],
   "source": [
    "def generate_schedule(precedence_relations, duration_and_resources, resource_availability, horizon):\n",
    "    \"\"\"\n",
    "    Gera um cronograma válido utilizando python-constraint.\n",
    "    \"\"\"\n",
    "    # Criar o problema\n",
    "    problem = Problem()\n",
    "\n",
    "    # Adicionar variáveis (tempo de início para cada tarefa)\n",
    "    for task_info in duration_and_resources:\n",
    "        task = task_info[\"task\"]\n",
    "        problem.addVariable(task, range(horizon))\n",
    "\n",
    "    # Adicionar restrições de precedência\n",
    "    for relation in precedence_relations:\n",
    "        task = relation[\"task\"]\n",
    "        for successor in relation[\"successors\"]:\n",
    "            def precedence_constraint(start_task, start_successor, task=task, successor=successor):\n",
    "                duration = next(d[\"duration\"] for d in duration_and_resources if d[\"task\"] == task)\n",
    "                return start_task + duration <= start_successor\n",
    "            problem.addConstraint(precedence_constraint, (task, successor))\n",
    "\n",
    "    # Adicionar restrições de recursos\n",
    "    def resource_constraint(*start_times):\n",
    "        resource_usage = {r: [0] * horizon for r in resource_availability.keys()}\n",
    "        for task, start_time in enumerate(start_times, 1):\n",
    "            task_info = next(d for d in duration_and_resources if d[\"task\"] == task)\n",
    "            duration = task_info[\"duration\"]\n",
    "            resources_needed = task_info[\"resources\"]\n",
    "            for t in range(start_time, start_time + duration):\n",
    "                for r, amount in resources_needed.items():\n",
    "                    resource_usage[r][t] += amount\n",
    "                    if resource_usage[r][t] > resource_availability[r]:\n",
    "                        return False\n",
    "        return True\n",
    "\n",
    "    problem.addConstraint(resource_constraint, [task_info[\"task\"] for task_info in duration_and_resources])\n",
    "\n",
    "    # Resolver o problema\n",
    "    solution = problem.getSolution()\n",
    "\n",
    "    if solution:\n",
    "        return solution\n",
    "    else:\n",
    "        print(\"Nenhuma solução encontrada!\")\n",
    "        return None\n",
    "\n",
    "# Exemplo de uso\n",
    "constraint_schedule = generate_schedule(\n",
    "    precedence_relations=parsed_data[\"precedence_relations\"],\n",
    "    duration_and_resources=parsed_data[\"duration_and_resources\"],\n",
    "    resource_availability=parsed_data[\"resource_availability\"],\n",
    "    horizon=parsed_data[\"general_info\"][\"horizon\"]\n",
    ")\n",
    "\n",
    "print(\"Novo cronograma gerado:\")\n",
    "print(constraint_schedule)\n"
   ]
  },
  {
   "cell_type": "markdown",
   "id": "aa2815f8-c1b5-4fb8-b029-743ea8f0cada",
   "metadata": {
    "jp-MarkdownHeadingCollapsed": true
   },
   "source": [
    "# Análise do Makespan"
   ]
  },
  {
   "cell_type": "code",
   "execution_count": 104,
   "id": "6c5503da-c334-4f5b-9f40-d27f928b57e2",
   "metadata": {},
   "outputs": [],
   "source": [
    "def calculate_makespan(planned_tasks, duration_and_resources):\n",
    "    \"\"\"\n",
    "    Calcula o makespan (tempo total) com base nas tarefas planeadas.\n",
    "    :param planned_tasks: Dicionário {tarefa: tempo de início}.\n",
    "    :param duration_and_resources: Lista de dicionários com duração e recursos de cada tarefa.\n",
    "    :return: Makespan (tempo total).\n",
    "    \"\"\"\n",
    "    makespan = max(\n",
    "        planned_tasks[task] + next(d[\"duration\"] for d in duration_and_resources if d[\"task\"] == task)\n",
    "        for task in planned_tasks\n",
    "    )\n",
    "    return makespan"
   ]
  },
  {
   "cell_type": "markdown",
   "id": "8034578d-de94-4bfc-b4b5-b0b125bdaa4b",
   "metadata": {
    "jp-MarkdownHeadingCollapsed": true
   },
   "source": [
    "# Utilização de Recursos"
   ]
  },
  {
   "cell_type": "code",
   "execution_count": 105,
   "id": "d016814c-b0ef-489e-ae72-26c083877acb",
   "metadata": {},
   "outputs": [
    {
     "data": {
      "image/png": "[encoded data removed]",
      "text/plain": [
       "<Figure size 1200x600 with 1 Axes>"
      ]
     },
     "metadata": {},
     "output_type": "display_data"
    }
   ],
   "source": [
    "def plot_resource_usage(planned_tasks, duration_and_resources, resource_availability, horizon):\n",
    "    \"\"\"\n",
    "    Gera um gráfico da utilização dos recursos ao longo do horizonte.\n",
    "    :param planned_tasks: Dicionário {tarefa: tempo de início}.\n",
    "    :param duration_and_resources: Lista com duração e recursos de cada tarefa.\n",
    "    :param resource_availability: Dicionário com a disponibilidade total de recursos.\n",
    "    :param horizon: Horizonte de tempo.\n",
    "    \"\"\"\n",
    "    # Inicializar uso de recursos\n",
    "    resource_usage = {r: [0] * horizon for r in resource_availability.keys()}\n",
    "\n",
    "    # Preencher o uso de recursos\n",
    "    for task, start_time in planned_tasks.items():\n",
    "        task_info = next(d for d in duration_and_resources if d[\"task\"] == task)\n",
    "        duration = task_info[\"duration\"]\n",
    "        resources = task_info[\"resources\"]\n",
    "        for t in range(duration):\n",
    "            for r, amount in resources.items():\n",
    "                resource_usage[r][start_time + t] += amount\n",
    "\n",
    "    # Plotar o uso de recursos\n",
    "    plt.figure(figsize=(12, 6))\n",
    "    for resource, usage in resource_usage.items():\n",
    "        plt.plot(range(horizon), usage, label=f\"{resource} (Disponível: {resource_availability[resource]})\")\n",
    "\n",
    "    plt.xlabel(\"Tempo\")\n",
    "    plt.ylabel(\"Utilização de Recursos\")\n",
    "    plt.title(\"Utilização de Recursos ao Longo do Tempo\")\n",
    "    plt.axhline(y=max(resource_availability.values()), color='r', linestyle='--', label=\"Limite Máximo\")\n",
    "    plt.legend()\n",
    "    plt.grid(axis=\"x\", linestyle=\"--\", alpha=0.7)\n",
    "    plt.show()\n",
    "\n",
    "# Gerar gráfico de utilização de recursos\n",
    "plot_resource_usage(\n",
    "    a_star_schedule,\n",
    "    parsed_data[\"duration_and_resources\"],\n",
    "    parsed_data[\"resource_availability\"],\n",
    "    parsed_data[\"general_info\"][\"horizon\"]\n",
    ")\n"
   ]
  },
  {
   "cell_type": "code",
   "execution_count": 106,
   "id": "a7aa6d3a-c3f2-461f-9901-32055fde37f5",
   "metadata": {},
   "outputs": [
    {
     "name": "stdout",
     "output_type": "stream",
     "text": [
      "Cronograma válido!\n"
     ]
    }
   ],
   "source": [
    "from constraint import Problem\n",
    "\n",
    "def validate_schedule(schedule, precedence_relations, duration_and_resources, resource_availability, horizon):\n",
    "    \"\"\"\n",
    "    Valida um cronograma gerado utilizando python-constraint.\n",
    "    \"\"\"\n",
    "    # Criar o problema\n",
    "    problem = Problem()\n",
    "\n",
    "    # Adicionar variáveis com domínios fixos (os tempos gerados pelo algoritmo)\n",
    "    for task, start_time in schedule.items():\n",
    "        problem.addVariable(task, [start_time])\n",
    "\n",
    "    # Adicionar restrições de precedência\n",
    "    for relation in precedence_relations:\n",
    "        task = relation[\"task\"]\n",
    "        for successor in relation[\"successors\"]:\n",
    "            def precedence_constraint(start_task, start_successor, task=task, successor=successor):\n",
    "                duration = next(d[\"duration\"] for d in duration_and_resources if d[\"task\"] == task)\n",
    "                return start_task + duration <= start_successor\n",
    "            problem.addConstraint(precedence_constraint, (task, successor))\n",
    "\n",
    "    # Adicionar restrições de recursos\n",
    "    def resource_constraint(*start_times):\n",
    "        resource_usage = {r: [0] * horizon for r in resource_availability.keys()}\n",
    "        for task, start_time in schedule.items():\n",
    "            task_info = next(d for d in duration_and_resources if d[\"task\"] == task)\n",
    "            duration = task_info[\"duration\"]\n",
    "            resources_needed = task_info[\"resources\"]\n",
    "            for t in range(start_time, start_time + duration):\n",
    "                for r, amount in resources_needed.items():\n",
    "                    resource_usage[r][t] += amount\n",
    "                    if resource_usage[r][t] > resource_availability[r]:\n",
    "                        return False\n",
    "        return True\n",
    "\n",
    "    problem.addConstraint(resource_constraint, schedule.keys())\n",
    "\n",
    "    # Validar a solução\n",
    "    solution = problem.getSolution()\n",
    "    return solution is not None\n",
    "\n",
    "# Exemplo de uso\n",
    "is_valid = validate_schedule(\n",
    "    schedule=a_star_schedule,\n",
    "    precedence_relations=parsed_data[\"precedence_relations\"],\n",
    "    duration_and_resources=parsed_data[\"duration_and_resources\"],\n",
    "    resource_availability=parsed_data[\"resource_availability\"],\n",
    "    horizon=parsed_data[\"general_info\"][\"horizon\"]\n",
    ")\n",
    "\n",
    "if is_valid:\n",
    "    print(\"Cronograma válido!\")\n",
    "else:\n",
    "    print(\"Erro: Cronograma inválido!\")\n"
   ]
  },
  {
   "cell_type": "markdown",
   "id": "2d3b3526-8945-4320-b67b-27d3bb7559b1",
   "metadata": {
    "jp-MarkdownHeadingCollapsed": true
   },
   "source": [
    "# Comparar Resultados"
   ]
  },
  {
   "cell_type": "code",
   "execution_count": 107,
   "id": "133d0f3c-29c6-4d89-88f2-1a2a75bd41be",
   "metadata": {},
   "outputs": [
    {
     "name": "stdout",
     "output_type": "stream",
     "text": [
      "Makespan (Básico): 20\n",
      "Makespan (Caminho Crítico): 27\n",
      "Makespan (A*): 46\n",
      "Makespan (A*): 45\n"
     ]
    }
   ],
   "source": [
    "# Comparar makespan\n",
    "makespan_basic = calculate_makespan(basic_schedule, parsed_data[\"duration_and_resources\"])\n",
    "makespan_critical = calculate_makespan(schedule, parsed_data[\"duration_and_resources\"])\n",
    "makespan_a_star = calculate_makespan(a_star_schedule, parsed_data[\"duration_and_resources\"])\n",
    "makespan_constraint = calculate_makespan(constraint_schedule, parsed_data[\"duration_and_resources\"])\n",
    "\n",
    "print(f\"Makespan (Básico): {makespan_basic}\")\n",
    "print(f\"Makespan (Caminho Crítico): {makespan_critical}\")\n",
    "print(f\"Makespan (A*): {makespan_a_star}\")\n",
    "print(f\"Makespan (A*): {makespan_constraint}\")\n"
   ]
  },
  {
   "cell_type": "code",
   "execution_count": 82,
   "id": "e8b7fa7a-41cf-4c4e-bb6f-405aeb385ad5",
   "metadata": {},
   "outputs": [
    {
     "name": "stdout",
     "output_type": "stream",
     "text": [
      "Tarefas Planeadas (com heurística):\n",
      "{\n",
      "    \"1\": 0,\n",
      "    \"3\": 0,\n",
      "    \"2\": 0,\n",
      "    \"5\": 3,\n",
      "    \"6\": 7,\n",
      "    \"8\": 11,\n",
      "    \"11\": 15,\n",
      "    \"7\": 7,\n",
      "    \"10\": 13,\n",
      "    \"4\": 3,\n",
      "    \"9\": 15,\n",
      "    \"12\": 20\n",
      "}\n"
     ]
    }
   ],
   "source": [
    "def plan_tasks_with_heuristics(precedence_relations, duration_and_resources, resource_availability, horizon):\n",
    "    # Inicializar o cronograma\n",
    "    schedule = initialize_schedule(horizon, resource_availability)\n",
    "    planned_tasks = {}  # Tarefas já planeadas\n",
    "\n",
    "    while len(planned_tasks) < len(duration_and_resources):\n",
    "        # Encontrar tarefas não planeadas cujas predecessoras foram concluídas\n",
    "        available_tasks = []\n",
    "        for task_info in duration_and_resources:\n",
    "            task = task_info[\"task\"]\n",
    "            if task in planned_tasks:\n",
    "                continue\n",
    "\n",
    "            # Verificar se todas as predecessoras foram concluídas\n",
    "            predecessors = [\n",
    "                rel[\"task\"]\n",
    "                for rel in precedence_relations\n",
    "                if task in rel[\"successors\"]\n",
    "            ]\n",
    "            if all(pred in planned_tasks for pred in predecessors):\n",
    "                # Calcula o tempo de término das predecessoras\n",
    "                max_predecessor_end_time = max(\n",
    "                    planned_tasks[pred] + next(\n",
    "                        d[\"duration\"] for d in duration_and_resources if d[\"task\"] == pred\n",
    "                    )\n",
    "                    for pred in predecessors\n",
    "                ) if predecessors else 0\n",
    "\n",
    "                # Adicionar a tarefa à lista de disponíveis, incluindo a informação do tempo mínimo\n",
    "                available_tasks.append((task_info, max_predecessor_end_time))\n",
    "\n",
    "        # Ordenar as tarefas disponíveis pela heurística: menor duração e mais sucessoras\n",
    "        available_tasks.sort(key=lambda t: (t[0][\"duration\"], -len([\n",
    "            rel[\"successors\"]\n",
    "            for rel in precedence_relations\n",
    "            if t[0][\"task\"] == rel[\"task\"]\n",
    "        ])))\n",
    "\n",
    "        # Planear a primeira tarefa disponível que respeita os recursos\n",
    "        for task_info, min_start_time in available_tasks:\n",
    "            task = task_info[\"task\"]\n",
    "            duration = task_info[\"duration\"]\n",
    "            resources_needed = task_info[\"resources\"]\n",
    "\n",
    "            # Encontrar o primeiro intervalo de tempo disponível após as predecessoras\n",
    "            start_time = None\n",
    "            for t in range(min_start_time, horizon - duration + 1):\n",
    "                if all(\n",
    "                    schedule[\"resource_usage\"][r][t + i] + resources_needed[r] <= resource_availability[r]\n",
    "                    for r in resources_needed\n",
    "                    for i in range(duration)\n",
    "                ):\n",
    "                    start_time = t\n",
    "                    break\n",
    "\n",
    "            # Se a tarefa pode ser planeada, atualiza o cronograma\n",
    "            if start_time is not None:\n",
    "                for i in range(duration):\n",
    "                    for r in resources_needed:\n",
    "                        schedule[\"resource_usage\"][r][start_time + i] += resources_needed[r]\n",
    "                planned_tasks[task] = start_time\n",
    "                break\n",
    "\n",
    "    return planned_tasks\n",
    "\n",
    "# Planear as tarefas com a heurística\n",
    "planned_tasks = plan_tasks_with_heuristics(\n",
    "    parsed_data[\"precedence_relations\"],\n",
    "    parsed_data[\"duration_and_resources\"],\n",
    "    parsed_data[\"resource_availability\"],\n",
    "    parsed_data[\"general_info\"][\"horizon\"]\n",
    ")\n",
    "\n",
    "print(\"Tarefas Planeadas (com heurística):\")\n",
    "print(json.dumps(planned_tasks, indent=4))"
   ]
  },
  {
   "cell_type": "code",
   "execution_count": 83,
   "id": "2b8c69db-0990-4a83-93ae-1c505b586e06",
   "metadata": {},
   "outputs": [
    {
     "name": "stdout",
     "output_type": "stream",
     "text": [
      "Validação: Todas as restrições foram respeitadas.\n"
     ]
    },
    {
     "data": {
      "text/plain": [
       "True"
      ]
     },
     "execution_count": 83,
     "metadata": {},
     "output_type": "execute_result"
    }
   ],
   "source": [
    "def validate_schedule_with_resources(planned_tasks, precedence_relations, duration_and_resources, resource_availability, horizon):\n",
    "    # Validar precedências\n",
    "    for relation in precedence_relations:\n",
    "        task = relation[\"task\"]\n",
    "        for successor in relation[\"successors\"]:\n",
    "            task_end_time = planned_tasks[task] + next(\n",
    "                d[\"duration\"] for d in duration_and_resources if d[\"task\"] == task\n",
    "            )\n",
    "            if task_end_time > planned_tasks[successor]:\n",
    "                print(f\"Erro: Precedência violada entre {task} -> {successor}\")\n",
    "                return False\n",
    "\n",
    "    # Validar recursos\n",
    "    schedule = initialize_schedule(horizon, resource_availability)\n",
    "    for task, start_time in planned_tasks.items():\n",
    "        task_info = next(d for d in duration_and_resources if d[\"task\"] == task)\n",
    "        for t in range(task_info[\"duration\"]):\n",
    "            for r in task_info[\"resources\"]:\n",
    "                schedule[\"resource_usage\"][r][start_time + t] += task_info[\"resources\"][r]\n",
    "                if schedule[\"resource_usage\"][r][start_time + t] > resource_availability[r]:\n",
    "                    print(f\"Erro: Recursos excedidos em Tarefa {task} no tempo {start_time + t}\")\n",
    "                    return False\n",
    "\n",
    "    print(\"Validação: Todas as restrições foram respeitadas.\")\n",
    "    return True\n",
    "\n",
    "# Validar o cronograma\n",
    "validate_schedule_with_resources(\n",
    "    planned_tasks,\n",
    "    parsed_data[\"precedence_relations\"],\n",
    "    parsed_data[\"duration_and_resources\"],\n",
    "    parsed_data[\"resource_availability\"],\n",
    "    parsed_data[\"general_info\"][\"horizon\"]\n",
    ")\n"
   ]
  },
  {
   "cell_type": "code",
   "execution_count": 85,
   "id": "bfa08ef1-2553-4f93-aff0-79d7427bb679",
   "metadata": {},
   "outputs": [
    {
     "data": {
      "image/png": "[encoded data removed]",
      "text/plain": [
       "<Figure size 1000x600 with 1 Axes>"
      ]
     },
     "metadata": {},
     "output_type": "display_data"
    }
   ],
   "source": [
    "plot_gantt_chart(planned_tasks, parsed_data[\"duration_and_resources\"])"
   ]
  },
  {
   "cell_type": "markdown",
   "id": "cb3812c1-afd6-470e-9c8b-db90a9ea3dc0",
   "metadata": {
    "jp-MarkdownHeadingCollapsed": true
   },
   "source": [
    "# Conclusão"
   ]
  },
  {
   "cell_type": "markdown",
   "id": "7fc15988-dfd5-49c3-929e-6f796bac9091",
   "metadata": {},
   "source": [
    "O desenvolvimento deste projeto permitiu aplicar conceitos fundamentais da UC de Inteligência Artificial na criação e implementação de um agente inteligente. \n",
    "Durante este processo, foi possível explorar técnicas de planeamento, otimização e resolução de problemas sob restrições, consolidando conhecimentos teóricos e práticos.\n",
    "Este projeto permitiu desenvolver um agente inteligente capaz de resolver problemas de planeamento com restrições fortes e leves, garantindo soluções viáveis e otimizadas. Foram aplicados algoritmos de procura e heurísticas para atender aos objetivos definidos, enquanto ferramentas como o Jupyter Notebook facilitaram a organização e análise do mesmo. O agente demonstrou eficácia em diferentes cenários, reforçando a aplicabilidade de Inteligência Artificial na resolução de problemas práticos e complexos."
   ]
  }
 ],
 "metadata": {
  "kernelspec": {
   "display_name": "Python 3 (ipykernel)",
   "language": "python",
   "name": "python3"
  },
  "language_info": {
   "codemirror_mode": {
    "name": "ipython",
    "version": 3
   },
   "file_extension": ".py",
   "mimetype": "text/x-python",
   "name": "python",
   "nbconvert_exporter": "python",
   "pygments_lexer": "ipython3",
   "version": "3.9.20"
  }
 },
 "nbformat": 4,
 "nbformat_minor": 5
}
